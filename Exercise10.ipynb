{
  "nbformat": 4,
  "nbformat_minor": 0,
  "metadata": {
    "colab": {
      "provenance": []
    },
    "kernelspec": {
      "name": "python3",
      "display_name": "Python 3"
    },
    "language_info": {
      "name": "python"
    }
  },
  "cells": [
    {
      "cell_type": "code",
      "execution_count": 1,
      "metadata": {
        "id": "QUFPdQLg894y"
      },
      "outputs": [],
      "source": [
        "import pandas as pd\n",
        "import numpy as np\n",
        "import matplotlib.pyplot as plt\n",
        "import seaborn as sns\n",
        "from sklearn import metrics\n",
        "from sklearn.model_selection import train_test_split\n",
        "from sklearn.metrics import confusion_matrix, roc_curve, auc, accuracy_score"
      ]
    },
    {
      "cell_type": "code",
      "source": [
        "ccdefault_all_df =pd.read_csv('/content/creditworthiness (1).csv',sep=',',encoding='latin-1')"
      ],
      "metadata": {
        "id": "rbwOtHor9hVg"
      },
      "execution_count": 2,
      "outputs": []
    },
    {
      "cell_type": "code",
      "source": [
        "ccdefault_all_df"
      ],
      "metadata": {
        "colab": {
          "base_uri": "https://localhost:8080/",
          "height": 443
        },
        "id": "BWcpattD9oNx",
        "outputId": "bf5f067d-ec6b-40dd-92d3-e31907668517"
      },
      "execution_count": 3,
      "outputs": [
        {
          "output_type": "execute_result",
          "data": {
            "text/plain": [
              "          ID  CC_LIMIT_CAT  EDUCATION  MARITAL_STATUS  GENDER  AGE_GROUP  \\\n",
              "0          1             0          2               2       2          0   \n",
              "1          2             3          2               1       2          1   \n",
              "2          3             2          2               1       2          1   \n",
              "3          4             1          2               2       2          1   \n",
              "4          5             1          2               2       1          0   \n",
              "...      ...           ...        ...             ...     ...        ...   \n",
              "29995  29996             5          1               2       1          1   \n",
              "29996  29997             4          1               1       1          1   \n",
              "29997  29998             0          2               1       1          1   \n",
              "29998  29999             2          1               2       1          1   \n",
              "29999  30000             1          2               2       1          1   \n",
              "\n",
              "       pay_status_1  pay_status_2  pay_status_3  pay_status_4  ...  _tpm  \\\n",
              "0                 2             2            -1            -1  ...    -1   \n",
              "1                -1             2             0             0  ...    -1   \n",
              "2                 0             0             0             0  ...    -1   \n",
              "3                 0             0             0             0  ...    -1   \n",
              "4                -1             0            -1             0  ...    -1   \n",
              "...             ...           ...           ...           ...  ...   ...   \n",
              "29995             0             0             0             0  ...    -1   \n",
              "29996            -1            -1            -1            -1  ...    -1   \n",
              "29997             4             3             2            -1  ...    -1   \n",
              "29998             1            -1             0             0  ...    -1   \n",
              "29999             0             0             0             0  ...    -1   \n",
              "\n",
              "       _ppm  _RETAIL  _URBAN  _RURAL  _PREMIUM  _TREATMENT  _LTV  _CC_LIMIT  \\\n",
              "0        -1       -1      -1      -1        -1          -1  -1.0         -1   \n",
              "1        -1       -1      -1      -1        -1          -1  -1.0         -1   \n",
              "2        -1       -1      -1      -1        -1          -1  -1.0         -1   \n",
              "3        -1       -1      -1      -1        -1          -1  -1.0         -1   \n",
              "4        -1       -1      -1      -1        -1          -1  -1.0         -1   \n",
              "...     ...      ...     ...     ...       ...         ...   ...        ...   \n",
              "29995    -1       -1      -1      -1        -1          -1  -1.0         -1   \n",
              "29996    -1       -1      -1      -1        -1          -1  -1.0         -1   \n",
              "29997    -1       -1      -1      -1        -1          -1  -1.0         -1   \n",
              "29998    -1       -1      -1      -1        -1          -1  -1.0         -1   \n",
              "29999    -1       -1      -1      -1        -1          -1  -1.0         -1   \n",
              "\n",
              "       _risk_score  \n",
              "0         0.000000  \n",
              "1         0.028792  \n",
              "2         0.166089  \n",
              "3         0.579180  \n",
              "4         0.382920  \n",
              "...            ...  \n",
              "29995     0.141986  \n",
              "29996     0.034600  \n",
              "29997     0.686067  \n",
              "29998     0.148187  \n",
              "29999     0.648560  \n",
              "\n",
              "[30000 rows x 32 columns]"
            ],
            "text/html": [
              "\n",
              "  <div id=\"df-8a5475d0-d42e-4f82-878c-4186c7077aab\" class=\"colab-df-container\">\n",
              "    <div>\n",
              "<style scoped>\n",
              "    .dataframe tbody tr th:only-of-type {\n",
              "        vertical-align: middle;\n",
              "    }\n",
              "\n",
              "    .dataframe tbody tr th {\n",
              "        vertical-align: top;\n",
              "    }\n",
              "\n",
              "    .dataframe thead th {\n",
              "        text-align: right;\n",
              "    }\n",
              "</style>\n",
              "<table border=\"1\" class=\"dataframe\">\n",
              "  <thead>\n",
              "    <tr style=\"text-align: right;\">\n",
              "      <th></th>\n",
              "      <th>ID</th>\n",
              "      <th>CC_LIMIT_CAT</th>\n",
              "      <th>EDUCATION</th>\n",
              "      <th>MARITAL_STATUS</th>\n",
              "      <th>GENDER</th>\n",
              "      <th>AGE_GROUP</th>\n",
              "      <th>pay_status_1</th>\n",
              "      <th>pay_status_2</th>\n",
              "      <th>pay_status_3</th>\n",
              "      <th>pay_status_4</th>\n",
              "      <th>...</th>\n",
              "      <th>_tpm</th>\n",
              "      <th>_ppm</th>\n",
              "      <th>_RETAIL</th>\n",
              "      <th>_URBAN</th>\n",
              "      <th>_RURAL</th>\n",
              "      <th>_PREMIUM</th>\n",
              "      <th>_TREATMENT</th>\n",
              "      <th>_LTV</th>\n",
              "      <th>_CC_LIMIT</th>\n",
              "      <th>_risk_score</th>\n",
              "    </tr>\n",
              "  </thead>\n",
              "  <tbody>\n",
              "    <tr>\n",
              "      <th>0</th>\n",
              "      <td>1</td>\n",
              "      <td>0</td>\n",
              "      <td>2</td>\n",
              "      <td>2</td>\n",
              "      <td>2</td>\n",
              "      <td>0</td>\n",
              "      <td>2</td>\n",
              "      <td>2</td>\n",
              "      <td>-1</td>\n",
              "      <td>-1</td>\n",
              "      <td>...</td>\n",
              "      <td>-1</td>\n",
              "      <td>-1</td>\n",
              "      <td>-1</td>\n",
              "      <td>-1</td>\n",
              "      <td>-1</td>\n",
              "      <td>-1</td>\n",
              "      <td>-1</td>\n",
              "      <td>-1.0</td>\n",
              "      <td>-1</td>\n",
              "      <td>0.000000</td>\n",
              "    </tr>\n",
              "    <tr>\n",
              "      <th>1</th>\n",
              "      <td>2</td>\n",
              "      <td>3</td>\n",
              "      <td>2</td>\n",
              "      <td>1</td>\n",
              "      <td>2</td>\n",
              "      <td>1</td>\n",
              "      <td>-1</td>\n",
              "      <td>2</td>\n",
              "      <td>0</td>\n",
              "      <td>0</td>\n",
              "      <td>...</td>\n",
              "      <td>-1</td>\n",
              "      <td>-1</td>\n",
              "      <td>-1</td>\n",
              "      <td>-1</td>\n",
              "      <td>-1</td>\n",
              "      <td>-1</td>\n",
              "      <td>-1</td>\n",
              "      <td>-1.0</td>\n",
              "      <td>-1</td>\n",
              "      <td>0.028792</td>\n",
              "    </tr>\n",
              "    <tr>\n",
              "      <th>2</th>\n",
              "      <td>3</td>\n",
              "      <td>2</td>\n",
              "      <td>2</td>\n",
              "      <td>1</td>\n",
              "      <td>2</td>\n",
              "      <td>1</td>\n",
              "      <td>0</td>\n",
              "      <td>0</td>\n",
              "      <td>0</td>\n",
              "      <td>0</td>\n",
              "      <td>...</td>\n",
              "      <td>-1</td>\n",
              "      <td>-1</td>\n",
              "      <td>-1</td>\n",
              "      <td>-1</td>\n",
              "      <td>-1</td>\n",
              "      <td>-1</td>\n",
              "      <td>-1</td>\n",
              "      <td>-1.0</td>\n",
              "      <td>-1</td>\n",
              "      <td>0.166089</td>\n",
              "    </tr>\n",
              "    <tr>\n",
              "      <th>3</th>\n",
              "      <td>4</td>\n",
              "      <td>1</td>\n",
              "      <td>2</td>\n",
              "      <td>2</td>\n",
              "      <td>2</td>\n",
              "      <td>1</td>\n",
              "      <td>0</td>\n",
              "      <td>0</td>\n",
              "      <td>0</td>\n",
              "      <td>0</td>\n",
              "      <td>...</td>\n",
              "      <td>-1</td>\n",
              "      <td>-1</td>\n",
              "      <td>-1</td>\n",
              "      <td>-1</td>\n",
              "      <td>-1</td>\n",
              "      <td>-1</td>\n",
              "      <td>-1</td>\n",
              "      <td>-1.0</td>\n",
              "      <td>-1</td>\n",
              "      <td>0.579180</td>\n",
              "    </tr>\n",
              "    <tr>\n",
              "      <th>4</th>\n",
              "      <td>5</td>\n",
              "      <td>1</td>\n",
              "      <td>2</td>\n",
              "      <td>2</td>\n",
              "      <td>1</td>\n",
              "      <td>0</td>\n",
              "      <td>-1</td>\n",
              "      <td>0</td>\n",
              "      <td>-1</td>\n",
              "      <td>0</td>\n",
              "      <td>...</td>\n",
              "      <td>-1</td>\n",
              "      <td>-1</td>\n",
              "      <td>-1</td>\n",
              "      <td>-1</td>\n",
              "      <td>-1</td>\n",
              "      <td>-1</td>\n",
              "      <td>-1</td>\n",
              "      <td>-1.0</td>\n",
              "      <td>-1</td>\n",
              "      <td>0.382920</td>\n",
              "    </tr>\n",
              "    <tr>\n",
              "      <th>...</th>\n",
              "      <td>...</td>\n",
              "      <td>...</td>\n",
              "      <td>...</td>\n",
              "      <td>...</td>\n",
              "      <td>...</td>\n",
              "      <td>...</td>\n",
              "      <td>...</td>\n",
              "      <td>...</td>\n",
              "      <td>...</td>\n",
              "      <td>...</td>\n",
              "      <td>...</td>\n",
              "      <td>...</td>\n",
              "      <td>...</td>\n",
              "      <td>...</td>\n",
              "      <td>...</td>\n",
              "      <td>...</td>\n",
              "      <td>...</td>\n",
              "      <td>...</td>\n",
              "      <td>...</td>\n",
              "      <td>...</td>\n",
              "      <td>...</td>\n",
              "    </tr>\n",
              "    <tr>\n",
              "      <th>29995</th>\n",
              "      <td>29996</td>\n",
              "      <td>5</td>\n",
              "      <td>1</td>\n",
              "      <td>2</td>\n",
              "      <td>1</td>\n",
              "      <td>1</td>\n",
              "      <td>0</td>\n",
              "      <td>0</td>\n",
              "      <td>0</td>\n",
              "      <td>0</td>\n",
              "      <td>...</td>\n",
              "      <td>-1</td>\n",
              "      <td>-1</td>\n",
              "      <td>-1</td>\n",
              "      <td>-1</td>\n",
              "      <td>-1</td>\n",
              "      <td>-1</td>\n",
              "      <td>-1</td>\n",
              "      <td>-1.0</td>\n",
              "      <td>-1</td>\n",
              "      <td>0.141986</td>\n",
              "    </tr>\n",
              "    <tr>\n",
              "      <th>29996</th>\n",
              "      <td>29997</td>\n",
              "      <td>4</td>\n",
              "      <td>1</td>\n",
              "      <td>1</td>\n",
              "      <td>1</td>\n",
              "      <td>1</td>\n",
              "      <td>-1</td>\n",
              "      <td>-1</td>\n",
              "      <td>-1</td>\n",
              "      <td>-1</td>\n",
              "      <td>...</td>\n",
              "      <td>-1</td>\n",
              "      <td>-1</td>\n",
              "      <td>-1</td>\n",
              "      <td>-1</td>\n",
              "      <td>-1</td>\n",
              "      <td>-1</td>\n",
              "      <td>-1</td>\n",
              "      <td>-1.0</td>\n",
              "      <td>-1</td>\n",
              "      <td>0.034600</td>\n",
              "    </tr>\n",
              "    <tr>\n",
              "      <th>29997</th>\n",
              "      <td>29998</td>\n",
              "      <td>0</td>\n",
              "      <td>2</td>\n",
              "      <td>1</td>\n",
              "      <td>1</td>\n",
              "      <td>1</td>\n",
              "      <td>4</td>\n",
              "      <td>3</td>\n",
              "      <td>2</td>\n",
              "      <td>-1</td>\n",
              "      <td>...</td>\n",
              "      <td>-1</td>\n",
              "      <td>-1</td>\n",
              "      <td>-1</td>\n",
              "      <td>-1</td>\n",
              "      <td>-1</td>\n",
              "      <td>-1</td>\n",
              "      <td>-1</td>\n",
              "      <td>-1.0</td>\n",
              "      <td>-1</td>\n",
              "      <td>0.686067</td>\n",
              "    </tr>\n",
              "    <tr>\n",
              "      <th>29998</th>\n",
              "      <td>29999</td>\n",
              "      <td>2</td>\n",
              "      <td>1</td>\n",
              "      <td>2</td>\n",
              "      <td>1</td>\n",
              "      <td>1</td>\n",
              "      <td>1</td>\n",
              "      <td>-1</td>\n",
              "      <td>0</td>\n",
              "      <td>0</td>\n",
              "      <td>...</td>\n",
              "      <td>-1</td>\n",
              "      <td>-1</td>\n",
              "      <td>-1</td>\n",
              "      <td>-1</td>\n",
              "      <td>-1</td>\n",
              "      <td>-1</td>\n",
              "      <td>-1</td>\n",
              "      <td>-1.0</td>\n",
              "      <td>-1</td>\n",
              "      <td>0.148187</td>\n",
              "    </tr>\n",
              "    <tr>\n",
              "      <th>29999</th>\n",
              "      <td>30000</td>\n",
              "      <td>1</td>\n",
              "      <td>2</td>\n",
              "      <td>2</td>\n",
              "      <td>1</td>\n",
              "      <td>1</td>\n",
              "      <td>0</td>\n",
              "      <td>0</td>\n",
              "      <td>0</td>\n",
              "      <td>0</td>\n",
              "      <td>...</td>\n",
              "      <td>-1</td>\n",
              "      <td>-1</td>\n",
              "      <td>-1</td>\n",
              "      <td>-1</td>\n",
              "      <td>-1</td>\n",
              "      <td>-1</td>\n",
              "      <td>-1</td>\n",
              "      <td>-1.0</td>\n",
              "      <td>-1</td>\n",
              "      <td>0.648560</td>\n",
              "    </tr>\n",
              "  </tbody>\n",
              "</table>\n",
              "<p>30000 rows × 32 columns</p>\n",
              "</div>\n",
              "    <div class=\"colab-df-buttons\">\n",
              "\n",
              "  <div class=\"colab-df-container\">\n",
              "    <button class=\"colab-df-convert\" onclick=\"convertToInteractive('df-8a5475d0-d42e-4f82-878c-4186c7077aab')\"\n",
              "            title=\"Convert this dataframe to an interactive table.\"\n",
              "            style=\"display:none;\">\n",
              "\n",
              "  <svg xmlns=\"http://www.w3.org/2000/svg\" height=\"24px\" viewBox=\"0 -960 960 960\">\n",
              "    <path d=\"M120-120v-720h720v720H120Zm60-500h600v-160H180v160Zm220 220h160v-160H400v160Zm0 220h160v-160H400v160ZM180-400h160v-160H180v160Zm440 0h160v-160H620v160ZM180-180h160v-160H180v160Zm440 0h160v-160H620v160Z\"/>\n",
              "  </svg>\n",
              "    </button>\n",
              "\n",
              "  <style>\n",
              "    .colab-df-container {\n",
              "      display:flex;\n",
              "      gap: 12px;\n",
              "    }\n",
              "\n",
              "    .colab-df-convert {\n",
              "      background-color: #E8F0FE;\n",
              "      border: none;\n",
              "      border-radius: 50%;\n",
              "      cursor: pointer;\n",
              "      display: none;\n",
              "      fill: #1967D2;\n",
              "      height: 32px;\n",
              "      padding: 0 0 0 0;\n",
              "      width: 32px;\n",
              "    }\n",
              "\n",
              "    .colab-df-convert:hover {\n",
              "      background-color: #E2EBFA;\n",
              "      box-shadow: 0px 1px 2px rgba(60, 64, 67, 0.3), 0px 1px 3px 1px rgba(60, 64, 67, 0.15);\n",
              "      fill: #174EA6;\n",
              "    }\n",
              "\n",
              "    .colab-df-buttons div {\n",
              "      margin-bottom: 4px;\n",
              "    }\n",
              "\n",
              "    [theme=dark] .colab-df-convert {\n",
              "      background-color: #3B4455;\n",
              "      fill: #D2E3FC;\n",
              "    }\n",
              "\n",
              "    [theme=dark] .colab-df-convert:hover {\n",
              "      background-color: #434B5C;\n",
              "      box-shadow: 0px 1px 3px 1px rgba(0, 0, 0, 0.15);\n",
              "      filter: drop-shadow(0px 1px 2px rgba(0, 0, 0, 0.3));\n",
              "      fill: #FFFFFF;\n",
              "    }\n",
              "  </style>\n",
              "\n",
              "    <script>\n",
              "      const buttonEl =\n",
              "        document.querySelector('#df-8a5475d0-d42e-4f82-878c-4186c7077aab button.colab-df-convert');\n",
              "      buttonEl.style.display =\n",
              "        google.colab.kernel.accessAllowed ? 'block' : 'none';\n",
              "\n",
              "      async function convertToInteractive(key) {\n",
              "        const element = document.querySelector('#df-8a5475d0-d42e-4f82-878c-4186c7077aab');\n",
              "        const dataTable =\n",
              "          await google.colab.kernel.invokeFunction('convertToInteractive',\n",
              "                                                    [key], {});\n",
              "        if (!dataTable) return;\n",
              "\n",
              "        const docLinkHtml = 'Like what you see? Visit the ' +\n",
              "          '<a target=\"_blank\" href=https://colab.research.google.com/notebooks/data_table.ipynb>data table notebook</a>'\n",
              "          + ' to learn more about interactive tables.';\n",
              "        element.innerHTML = '';\n",
              "        dataTable['output_type'] = 'display_data';\n",
              "        await google.colab.output.renderOutput(dataTable, element);\n",
              "        const docLink = document.createElement('div');\n",
              "        docLink.innerHTML = docLinkHtml;\n",
              "        element.appendChild(docLink);\n",
              "      }\n",
              "    </script>\n",
              "  </div>\n",
              "\n",
              "\n",
              "<div id=\"df-c143e378-5e3f-4de8-8c6f-e812c6168c77\">\n",
              "  <button class=\"colab-df-quickchart\" onclick=\"quickchart('df-c143e378-5e3f-4de8-8c6f-e812c6168c77')\"\n",
              "            title=\"Suggest charts\"\n",
              "            style=\"display:none;\">\n",
              "\n",
              "<svg xmlns=\"http://www.w3.org/2000/svg\" height=\"24px\"viewBox=\"0 0 24 24\"\n",
              "     width=\"24px\">\n",
              "    <g>\n",
              "        <path d=\"M19 3H5c-1.1 0-2 .9-2 2v14c0 1.1.9 2 2 2h14c1.1 0 2-.9 2-2V5c0-1.1-.9-2-2-2zM9 17H7v-7h2v7zm4 0h-2V7h2v10zm4 0h-2v-4h2v4z\"/>\n",
              "    </g>\n",
              "</svg>\n",
              "  </button>\n",
              "\n",
              "<style>\n",
              "  .colab-df-quickchart {\n",
              "      --bg-color: #E8F0FE;\n",
              "      --fill-color: #1967D2;\n",
              "      --hover-bg-color: #E2EBFA;\n",
              "      --hover-fill-color: #174EA6;\n",
              "      --disabled-fill-color: #AAA;\n",
              "      --disabled-bg-color: #DDD;\n",
              "  }\n",
              "\n",
              "  [theme=dark] .colab-df-quickchart {\n",
              "      --bg-color: #3B4455;\n",
              "      --fill-color: #D2E3FC;\n",
              "      --hover-bg-color: #434B5C;\n",
              "      --hover-fill-color: #FFFFFF;\n",
              "      --disabled-bg-color: #3B4455;\n",
              "      --disabled-fill-color: #666;\n",
              "  }\n",
              "\n",
              "  .colab-df-quickchart {\n",
              "    background-color: var(--bg-color);\n",
              "    border: none;\n",
              "    border-radius: 50%;\n",
              "    cursor: pointer;\n",
              "    display: none;\n",
              "    fill: var(--fill-color);\n",
              "    height: 32px;\n",
              "    padding: 0;\n",
              "    width: 32px;\n",
              "  }\n",
              "\n",
              "  .colab-df-quickchart:hover {\n",
              "    background-color: var(--hover-bg-color);\n",
              "    box-shadow: 0 1px 2px rgba(60, 64, 67, 0.3), 0 1px 3px 1px rgba(60, 64, 67, 0.15);\n",
              "    fill: var(--button-hover-fill-color);\n",
              "  }\n",
              "\n",
              "  .colab-df-quickchart-complete:disabled,\n",
              "  .colab-df-quickchart-complete:disabled:hover {\n",
              "    background-color: var(--disabled-bg-color);\n",
              "    fill: var(--disabled-fill-color);\n",
              "    box-shadow: none;\n",
              "  }\n",
              "\n",
              "  .colab-df-spinner {\n",
              "    border: 2px solid var(--fill-color);\n",
              "    border-color: transparent;\n",
              "    border-bottom-color: var(--fill-color);\n",
              "    animation:\n",
              "      spin 1s steps(1) infinite;\n",
              "  }\n",
              "\n",
              "  @keyframes spin {\n",
              "    0% {\n",
              "      border-color: transparent;\n",
              "      border-bottom-color: var(--fill-color);\n",
              "      border-left-color: var(--fill-color);\n",
              "    }\n",
              "    20% {\n",
              "      border-color: transparent;\n",
              "      border-left-color: var(--fill-color);\n",
              "      border-top-color: var(--fill-color);\n",
              "    }\n",
              "    30% {\n",
              "      border-color: transparent;\n",
              "      border-left-color: var(--fill-color);\n",
              "      border-top-color: var(--fill-color);\n",
              "      border-right-color: var(--fill-color);\n",
              "    }\n",
              "    40% {\n",
              "      border-color: transparent;\n",
              "      border-right-color: var(--fill-color);\n",
              "      border-top-color: var(--fill-color);\n",
              "    }\n",
              "    60% {\n",
              "      border-color: transparent;\n",
              "      border-right-color: var(--fill-color);\n",
              "    }\n",
              "    80% {\n",
              "      border-color: transparent;\n",
              "      border-right-color: var(--fill-color);\n",
              "      border-bottom-color: var(--fill-color);\n",
              "    }\n",
              "    90% {\n",
              "      border-color: transparent;\n",
              "      border-bottom-color: var(--fill-color);\n",
              "    }\n",
              "  }\n",
              "</style>\n",
              "\n",
              "  <script>\n",
              "    async function quickchart(key) {\n",
              "      const quickchartButtonEl =\n",
              "        document.querySelector('#' + key + ' button');\n",
              "      quickchartButtonEl.disabled = true;  // To prevent multiple clicks.\n",
              "      quickchartButtonEl.classList.add('colab-df-spinner');\n",
              "      try {\n",
              "        const charts = await google.colab.kernel.invokeFunction(\n",
              "            'suggestCharts', [key], {});\n",
              "      } catch (error) {\n",
              "        console.error('Error during call to suggestCharts:', error);\n",
              "      }\n",
              "      quickchartButtonEl.classList.remove('colab-df-spinner');\n",
              "      quickchartButtonEl.classList.add('colab-df-quickchart-complete');\n",
              "    }\n",
              "    (() => {\n",
              "      let quickchartButtonEl =\n",
              "        document.querySelector('#df-c143e378-5e3f-4de8-8c6f-e812c6168c77 button');\n",
              "      quickchartButtonEl.style.display =\n",
              "        google.colab.kernel.accessAllowed ? 'block' : 'none';\n",
              "    })();\n",
              "  </script>\n",
              "</div>\n",
              "    </div>\n",
              "  </div>\n"
            ]
          },
          "metadata": {},
          "execution_count": 3
        }
      ]
    },
    {
      "cell_type": "code",
      "source": [
        "print(\"number of women/men\\n\",ccdefault_all_df.GENDER.value_counts())\n",
        "print(\"number of women/men with repayment delay\\n\",\n",
        "ccdefault_all_df[ccdefault_all_df.IS_DEFAULT==1].GENDER.\\\n",
        "value_counts())\n",
        "print(\"Percentage of women/men with repayment delay\\n\",ccdefault_all_df[ccdefault_all_df.IS_DEFAULT==1].GENDER.\\\n",
        "value_counts()/ccdefault_all_df.GENDER.value_counts())"
      ],
      "metadata": {
        "colab": {
          "base_uri": "https://localhost:8080/"
        },
        "id": "fvKfH2Pb9vit",
        "outputId": "0815afb6-ffbd-418d-e606-aebd98b1817f"
      },
      "execution_count": 4,
      "outputs": [
        {
          "output_type": "stream",
          "name": "stdout",
          "text": [
            "number of women/men\n",
            " 2    18112\n",
            "1    11888\n",
            "Name: GENDER, dtype: int64\n",
            "number of women/men with repayment delay\n",
            " 2    3763\n",
            "1    2873\n",
            "Name: GENDER, dtype: int64\n",
            "Percentage of women/men with repayment delay\n",
            " 2    0.207763\n",
            "1    0.241672\n",
            "Name: GENDER, dtype: float64\n"
          ]
        }
      ]
    },
    {
      "cell_type": "code",
      "source": [
        "cf_matrix = metrics.confusion_matrix(ccdefault_all_df.GENDER==2,\\\n",
        "ccdefault_all_df.IS_DEFAULT)\n",
        "print(\"cf_matrix\\n\",cf_matrix)"
      ],
      "metadata": {
        "colab": {
          "base_uri": "https://localhost:8080/"
        },
        "id": "zPNAFqc3-eAj",
        "outputId": "1fc69085-7b2a-45e2-a9c4-ce9144c611e3"
      },
      "execution_count": 5,
      "outputs": [
        {
          "output_type": "stream",
          "name": "stdout",
          "text": [
            "cf_matrix\n",
            " [[ 9015  2873]\n",
            " [14349  3763]]\n"
          ]
        }
      ]
    },
    {
      "cell_type": "code",
      "source": [
        "plt.figure(figsize=(6, 5))\n",
        "sns.heatmap(cf_matrix/np.sum(cf_matrix), annot=True,\\\n",
        "fmt='.2%', cmap='Blues', annot_kws={'size':16})"
      ],
      "metadata": {
        "colab": {
          "base_uri": "https://localhost:8080/",
          "height": 462
        },
        "id": "qEQrGym8_e7C",
        "outputId": "02672839-5284-48d9-e2bb-99b755878738"
      },
      "execution_count": 6,
      "outputs": [
        {
          "output_type": "execute_result",
          "data": {
            "text/plain": [
              "<Axes: >"
            ]
          },
          "metadata": {},
          "execution_count": 6
        },
        {
          "output_type": "display_data",
          "data": {
            "text/plain": [
              "<Figure size 600x500 with 2 Axes>"
            ],
            "image/png": "[encoded data removed]"
          },
          "metadata": {}
        }
      ]
    },
    {
      "cell_type": "code",
      "source": [
        "ccdefault_all_df = ccdefault_all_df[ccdefault_all_df._TREATMENT < 1]"
      ],
      "metadata": {
        "id": "YIYFbxXdEd0p"
      },
      "execution_count": 4,
      "outputs": []
    },
    {
      "cell_type": "code",
      "source": [
        "y = ccdefault_all_df['IS_DEFAULT']\n",
        "X = ccdefault_all_df.drop(['IS_DEFAULT'], axis=1).copy()\n",
        "X_train, X_test, y_train, y_test =train_test_split(X, y, test_size=0.25, random_state=9)"
      ],
      "metadata": {
        "id": "DCuYRsjG_wHG"
      },
      "execution_count": 5,
      "outputs": []
    },
    {
      "cell_type": "code",
      "source": [
        "!pip install aif360"
      ],
      "metadata": {
        "colab": {
          "base_uri": "https://localhost:8080/"
        },
        "id": "4Zaz1WbeB55h",
        "outputId": "73187448-c34f-4b28-ac27-54b5f88e0d6c"
      },
      "execution_count": 6,
      "outputs": [
        {
          "output_type": "stream",
          "name": "stdout",
          "text": [
            "Collecting aif360\n",
            "  Downloading aif360-0.5.0-py3-none-any.whl (214 kB)\n",
            "\u001b[?25l     \u001b[90m━━━━━━━━━━━━━━━━━━━━━━━━━━━━━━━━━━━━━━━━\u001b[0m \u001b[32m0.0/214.1 kB\u001b[0m \u001b[31m?\u001b[0m eta \u001b[36m-:--:--\u001b[0m\r\u001b[2K     \u001b[91m━━━━━━━━━━━━━━━━━━━━━\u001b[0m\u001b[90m╺\u001b[0m\u001b[90m━━━━━━━━━━━━━━━━━━\u001b[0m \u001b[32m112.6/214.1 kB\u001b[0m \u001b[31m3.4 MB/s\u001b[0m eta \u001b[36m0:00:01\u001b[0m\r\u001b[2K     \u001b[90m━━━━━━━━━━━━━━━━━━━━━━━━━━━━━━━━━━━━━━━━\u001b[0m \u001b[32m214.1/214.1 kB\u001b[0m \u001b[31m4.1 MB/s\u001b[0m eta \u001b[36m0:00:00\u001b[0m\n",
            "\u001b[?25hRequirement already satisfied: numpy>=1.16 in /usr/local/lib/python3.10/dist-packages (from aif360) (1.23.5)\n",
            "Requirement already satisfied: scipy>=1.2.0 in /usr/local/lib/python3.10/dist-packages (from aif360) (1.11.4)\n",
            "Requirement already satisfied: pandas>=0.24.0 in /usr/local/lib/python3.10/dist-packages (from aif360) (1.5.3)\n",
            "Requirement already satisfied: scikit-learn>=1.0 in /usr/local/lib/python3.10/dist-packages (from aif360) (1.2.2)\n",
            "Requirement already satisfied: matplotlib in /usr/local/lib/python3.10/dist-packages (from aif360) (3.7.1)\n",
            "Requirement already satisfied: python-dateutil>=2.8.1 in /usr/local/lib/python3.10/dist-packages (from pandas>=0.24.0->aif360) (2.8.2)\n",
            "Requirement already satisfied: pytz>=2020.1 in /usr/local/lib/python3.10/dist-packages (from pandas>=0.24.0->aif360) (2023.3.post1)\n",
            "Requirement already satisfied: joblib>=1.1.1 in /usr/local/lib/python3.10/dist-packages (from scikit-learn>=1.0->aif360) (1.3.2)\n",
            "Requirement already satisfied: threadpoolctl>=2.0.0 in /usr/local/lib/python3.10/dist-packages (from scikit-learn>=1.0->aif360) (3.2.0)\n",
            "Requirement already satisfied: contourpy>=1.0.1 in /usr/local/lib/python3.10/dist-packages (from matplotlib->aif360) (1.2.0)\n",
            "Requirement already satisfied: cycler>=0.10 in /usr/local/lib/python3.10/dist-packages (from matplotlib->aif360) (0.12.1)\n",
            "Requirement already satisfied: fonttools>=4.22.0 in /usr/local/lib/python3.10/dist-packages (from matplotlib->aif360) (4.47.2)\n",
            "Requirement already satisfied: kiwisolver>=1.0.1 in /usr/local/lib/python3.10/dist-packages (from matplotlib->aif360) (1.4.5)\n",
            "Requirement already satisfied: packaging>=20.0 in /usr/local/lib/python3.10/dist-packages (from matplotlib->aif360) (23.2)\n",
            "Requirement already satisfied: pillow>=6.2.0 in /usr/local/lib/python3.10/dist-packages (from matplotlib->aif360) (9.4.0)\n",
            "Requirement already satisfied: pyparsing>=2.3.1 in /usr/local/lib/python3.10/dist-packages (from matplotlib->aif360) (3.1.1)\n",
            "Requirement already satisfied: six>=1.5 in /usr/local/lib/python3.10/dist-packages (from python-dateutil>=2.8.1->pandas>=0.24.0->aif360) (1.16.0)\n",
            "Installing collected packages: aif360\n",
            "Successfully installed aif360-0.5.0\n"
          ]
        }
      ]
    },
    {
      "cell_type": "code",
      "source": [
        "import aif360\n",
        "from aif360.algorithms.preprocessing import DisparateImpactRemover"
      ],
      "metadata": {
        "colab": {
          "base_uri": "https://localhost:8080/"
        },
        "id": "YboetFJjB308",
        "outputId": "8bde51d9-ef95-4fe2-a395-14c55c605f4c"
      },
      "execution_count": 7,
      "outputs": [
        {
          "output_type": "stream",
          "name": "stderr",
          "text": [
            "WARNING:root:No module named 'tempeh': LawSchoolGPADataset will be unavailable. To install, run:\n",
            "pip install 'aif360[LawSchoolGPA]'\n",
            "WARNING:root:No module named 'fairlearn': ExponentiatedGradientReduction will be unavailable. To install, run:\n",
            "pip install 'aif360[Reductions]'\n",
            "WARNING:root:No module named 'fairlearn': GridSearchReduction will be unavailable. To install, run:\n",
            "pip install 'aif360[Reductions]'\n",
            "WARNING:root:No module named 'fairlearn': GridSearchReduction will be unavailable. To install, run:\n",
            "pip install 'aif360[Reductions]'\n"
          ]
        }
      ]
    },
    {
      "cell_type": "code",
      "source": [
        "train_ds = aif360.datasets.BinaryLabelDataset(df=X_train.join(y_train),\\\n",
        "label_names=['IS_DEFAULT'],\\\n",
        "protected_attribute_names=['GENDER'],\n",
        "favorable_label=0, unfavorable_label=1)\n",
        "test_ds = aif360.datasets.BinaryLabelDataset(df=X_test.join(y_test),\\\n",
        "label_names=['IS_DEFAULT'],\\\n",
        "protected_attribute_names=['GENDER'],\n",
        "favorable_label=0, unfavorable_label=1)"
      ],
      "metadata": {
        "id": "ah5KqWIsAkKc"
      },
      "execution_count": 8,
      "outputs": []
    },
    {
      "cell_type": "code",
      "source": [
        "unprivileged_groups=[{'GENDER': 2}]\n",
        "privileged_groups=[{'GENDER': 1}]"
      ],
      "metadata": {
        "id": "1XOScID2CNVo"
      },
      "execution_count": 9,
      "outputs": []
    },
    {
      "cell_type": "code",
      "source": [
        "metrics_train_ds = aif360.metrics.BinaryLabelDatasetMetric(train_ds,\\\n",
        "unprivileged_groups=unprivileged_groups,\\\n",
        "privileged_groups=privileged_groups)\n",
        "metrics_test_ds = aif360.metrics.BinaryLabelDatasetMetric(test_ds,\\\n",
        "unprivileged_groups=unprivileged_groups,\\\n",
        "privileged_groups=privileged_groups)\n",
        "print (\"Difference in mean outcomes TEST between unprivileged and privileged groups = \",\n",
        "metrics_test_ds.mean_difference())"
      ],
      "metadata": {
        "colab": {
          "base_uri": "https://localhost:8080/"
        },
        "id": "b1-cqdU1CbuB",
        "outputId": "92ec309d-bef5-466d-80fa-2fdc34872fce"
      },
      "execution_count": 10,
      "outputs": [
        {
          "output_type": "stream",
          "name": "stdout",
          "text": [
            "Difference in mean outcomes TEST between unprivileged and privileged groups =  0.02220936155107256\n"
          ]
        }
      ]
    },
    {
      "cell_type": "code",
      "source": [
        "print('Statistical Parity Difference (SPD):\\t\\t\\t%.4f' %\\\n",
        "metrics_train_ds.statistical_parity_difference())"
      ],
      "metadata": {
        "colab": {
          "base_uri": "https://localhost:8080/"
        },
        "id": "NLQ-_Q7yCxXh",
        "outputId": "c4459f7c-7297-4e94-e98c-4de6daea788c"
      },
      "execution_count": 15,
      "outputs": [
        {
          "output_type": "stream",
          "name": "stdout",
          "text": [
            "Statistical Parity Difference (SPD):\t\t\t0.0394\n"
          ]
        }
      ]
    },
    {
      "cell_type": "code",
      "source": [
        "print('Disparate Impact (DI):\\t\\t\\t\\t\\t%.4f' %\\\n",
        "metrics_train_ds.disparate_impact())"
      ],
      "metadata": {
        "colab": {
          "base_uri": "https://localhost:8080/"
        },
        "id": "rVPwvmC1DRrm",
        "outputId": "33ecbc70-4e29-4174-ed9d-f3af1d649062"
      },
      "execution_count": 16,
      "outputs": [
        {
          "output_type": "stream",
          "name": "stdout",
          "text": [
            "Disparate Impact (DI):\t\t\t\t\t1.0522\n"
          ]
        }
      ]
    },
    {
      "cell_type": "code",
      "source": [
        "print('Smoothed Empirical Differential Fairness (SEDF):\\t%.4f' %\\\n",
        "metrics_train_ds.smoothed_empirical_differential_fairness())"
      ],
      "metadata": {
        "colab": {
          "base_uri": "https://localhost:8080/"
        },
        "id": "Z-5FY_GUDcdf",
        "outputId": "0615ce19-2b7a-4df9-ef68-e49c59152cb3"
      },
      "execution_count": 17,
      "outputs": [
        {
          "output_type": "stream",
          "name": "stdout",
          "text": [
            "Smoothed Empirical Differential Fairness (SEDF):\t0.1750\n"
          ]
        }
      ]
    },
    {
      "cell_type": "code",
      "source": [
        "!pip install catboost"
      ],
      "metadata": {
        "colab": {
          "base_uri": "https://localhost:8080/"
        },
        "id": "qhSC9uuLDvgI",
        "outputId": "1b097764-0892-4e77-e852-91ce77afaefe"
      },
      "execution_count": 11,
      "outputs": [
        {
          "output_type": "stream",
          "name": "stdout",
          "text": [
            "Collecting catboost\n",
            "  Downloading catboost-1.2.2-cp310-cp310-manylinux2014_x86_64.whl (98.7 MB)\n",
            "\u001b[2K     \u001b[90m━━━━━━━━━━━━━━━━━━━━━━━━━━━━━━━━━━━━━━━━\u001b[0m \u001b[32m98.7/98.7 MB\u001b[0m \u001b[31m6.7 MB/s\u001b[0m eta \u001b[36m0:00:00\u001b[0m\n",
            "\u001b[?25hRequirement already satisfied: graphviz in /usr/local/lib/python3.10/dist-packages (from catboost) (0.20.1)\n",
            "Requirement already satisfied: matplotlib in /usr/local/lib/python3.10/dist-packages (from catboost) (3.7.1)\n",
            "Requirement already satisfied: numpy>=1.16.0 in /usr/local/lib/python3.10/dist-packages (from catboost) (1.23.5)\n",
            "Requirement already satisfied: pandas>=0.24 in /usr/local/lib/python3.10/dist-packages (from catboost) (1.5.3)\n",
            "Requirement already satisfied: scipy in /usr/local/lib/python3.10/dist-packages (from catboost) (1.11.4)\n",
            "Requirement already satisfied: plotly in /usr/local/lib/python3.10/dist-packages (from catboost) (5.15.0)\n",
            "Requirement already satisfied: six in /usr/local/lib/python3.10/dist-packages (from catboost) (1.16.0)\n",
            "Requirement already satisfied: python-dateutil>=2.8.1 in /usr/local/lib/python3.10/dist-packages (from pandas>=0.24->catboost) (2.8.2)\n",
            "Requirement already satisfied: pytz>=2020.1 in /usr/local/lib/python3.10/dist-packages (from pandas>=0.24->catboost) (2023.3.post1)\n",
            "Requirement already satisfied: contourpy>=1.0.1 in /usr/local/lib/python3.10/dist-packages (from matplotlib->catboost) (1.2.0)\n",
            "Requirement already satisfied: cycler>=0.10 in /usr/local/lib/python3.10/dist-packages (from matplotlib->catboost) (0.12.1)\n",
            "Requirement already satisfied: fonttools>=4.22.0 in /usr/local/lib/python3.10/dist-packages (from matplotlib->catboost) (4.47.2)\n",
            "Requirement already satisfied: kiwisolver>=1.0.1 in /usr/local/lib/python3.10/dist-packages (from matplotlib->catboost) (1.4.5)\n",
            "Requirement already satisfied: packaging>=20.0 in /usr/local/lib/python3.10/dist-packages (from matplotlib->catboost) (23.2)\n",
            "Requirement already satisfied: pillow>=6.2.0 in /usr/local/lib/python3.10/dist-packages (from matplotlib->catboost) (9.4.0)\n",
            "Requirement already satisfied: pyparsing>=2.3.1 in /usr/local/lib/python3.10/dist-packages (from matplotlib->catboost) (3.1.1)\n",
            "Requirement already satisfied: tenacity>=6.2.0 in /usr/local/lib/python3.10/dist-packages (from plotly->catboost) (8.2.3)\n",
            "Installing collected packages: catboost\n",
            "Successfully installed catboost-1.2.2\n"
          ]
        }
      ]
    },
    {
      "cell_type": "code",
      "source": [
        "import tensorflow as tf\n",
        "from catboost import CatBoostClassifier\n",
        "rand = 9\n",
        "np.random.seed(rand)\n",
        "tf.random.set_seed(rand)\n",
        "orig_plt_params = plt.rcParams\n",
        "sns.set()\n",
        "cb_mdl = CatBoostClassifier(iterations=500, learning_rate=0.5, depth=8)\n",
        "fitted_cb_mdl = cb_mdl.fit(X_train, y_train, verbose=False)\n",
        "y_test_cb_pred = fitted_cb_mdl .predict(X_test)"
      ],
      "metadata": {
        "id": "vdVDwgmHDi3d"
      },
      "execution_count": 12,
      "outputs": []
    },
    {
      "cell_type": "code",
      "source": [
        "cf_matrix = metrics.confusion_matrix(y_test,\\\n",
        "y_test_cb_pred)\n",
        "print(\"CatBoostClassifier without bias mitigation\\n\",cf_matrix)"
      ],
      "metadata": {
        "colab": {
          "base_uri": "https://localhost:8080/"
        },
        "id": "cZ3g3ZBrDqxp",
        "outputId": "720dc606-d4e8-41e8-ef1f-75b3f4ae0265"
      },
      "execution_count": 20,
      "outputs": [
        {
          "output_type": "stream",
          "name": "stdout",
          "text": [
            "CatBoostClassifier without bias mitigation\n",
            " [[5284  428]\n",
            " [ 994  589]]\n"
          ]
        }
      ]
    },
    {
      "cell_type": "code",
      "source": [
        "plt.figure(figsize=(6, 5))\n",
        "sns.heatmap(cf_matrix/np.sum(cf_matrix), annot=True,\\\n",
        "fmt='.2%', cmap='Blues', annot_kws={'size':16})"
      ],
      "metadata": {
        "colab": {
          "base_uri": "https://localhost:8080/",
          "height": 467
        },
        "id": "swTFBfJEEB3O",
        "outputId": "e72d2157-37c9-4d64-c27f-9707e3c4e7eb"
      },
      "execution_count": 21,
      "outputs": [
        {
          "output_type": "execute_result",
          "data": {
            "text/plain": [
              "<Axes: >"
            ]
          },
          "metadata": {},
          "execution_count": 21
        },
        {
          "output_type": "display_data",
          "data": {
            "text/plain": [
              "<Figure size 600x500 with 2 Axes>"
            ],
            "image/png": "[encoded data removed]"
          },
          "metadata": {}
        }
      ]
    },
    {
      "cell_type": "code",
      "source": [
        "from sklearn.metrics import accuracy_score\n",
        "accuracy = accuracy_score(y_test, y_test_cb_pred)\n",
        "print(f\"Accuracy: {accuracy}\")"
      ],
      "metadata": {
        "colab": {
          "base_uri": "https://localhost:8080/"
        },
        "id": "PvZQ_XGVLx80",
        "outputId": "4766027d-657a-4cae-8d05-e837044a7b82"
      },
      "execution_count": 15,
      "outputs": [
        {
          "output_type": "stream",
          "name": "stdout",
          "text": [
            "Accuracy: 0.8050719671007539\n"
          ]
        }
      ]
    },
    {
      "cell_type": "code",
      "source": [
        "series = pd.Series(y_test_cb_pred,name = 'IS_DEFAULT')"
      ],
      "metadata": {
        "id": "8hOobMAnYPr0"
      },
      "execution_count": 67,
      "outputs": []
    },
    {
      "cell_type": "code",
      "source": [
        "series"
      ],
      "metadata": {
        "colab": {
          "base_uri": "https://localhost:8080/"
        },
        "id": "u_WIXTw2eahj",
        "outputId": "9f7425fe-f290-4ca7-9c87-2d674c4ce359"
      },
      "execution_count": 70,
      "outputs": [
        {
          "output_type": "execute_result",
          "data": {
            "text/plain": [
              "0       1\n",
              "1       0\n",
              "2       0\n",
              "3       0\n",
              "4       1\n",
              "       ..\n",
              "7290    1\n",
              "7291    0\n",
              "7292    0\n",
              "7293    1\n",
              "7294    0\n",
              "Name: IS_DEFAULT, Length: 7295, dtype: int64"
            ]
          },
          "metadata": {},
          "execution_count": 70
        }
      ]
    },
    {
      "cell_type": "code",
      "source": [
        "series.isna().any().any()"
      ],
      "metadata": {
        "colab": {
          "base_uri": "https://localhost:8080/"
        },
        "id": "lBzeq_Qfe4Jt",
        "outputId": "f6b763d0-f2bb-41aa-e904-8cf53c5d8793"
      },
      "execution_count": 72,
      "outputs": [
        {
          "output_type": "execute_result",
          "data": {
            "text/plain": [
              "False"
            ]
          },
          "metadata": {},
          "execution_count": 72
        }
      ]
    },
    {
      "cell_type": "code",
      "source": [
        "y_test"
      ],
      "metadata": {
        "colab": {
          "base_uri": "https://localhost:8080/"
        },
        "id": "nUsXsJZlc0Rr",
        "outputId": "f047ffc0-978d-4b52-98a6-82c316ce1e87"
      },
      "execution_count": 66,
      "outputs": [
        {
          "output_type": "execute_result",
          "data": {
            "text/plain": [
              "19042    1\n",
              "17975    0\n",
              "13030    0\n",
              "22198    0\n",
              "25017    1\n",
              "        ..\n",
              "2121     0\n",
              "13252    0\n",
              "11433    0\n",
              "12065    0\n",
              "28222    0\n",
              "Name: IS_DEFAULT, Length: 7295, dtype: int64"
            ]
          },
          "metadata": {},
          "execution_count": 66
        }
      ]
    },
    {
      "cell_type": "code",
      "source": [
        "from aif360.metrics import BinaryLabelDatasetMetric\n",
        "from aif360.datasets import BinaryLabelDataset\n",
        "\n",
        "\n",
        "# Create a BinaryLabelDataset for the test set\n",
        "test_ds = BinaryLabelDataset(df=X_test.join(y_test_cb_pred),\n",
        "                              label_names=['IS_DEFAULT'],\n",
        "                              protected_attribute_names=['GENDER'],\n",
        "                              favorable_label=0, unfavorable_label=1)\n",
        "\n",
        "# Create a BinaryLabelDataset for the predicted labels\n",
        "# pred_ds = BinaryLabelDataset(df=X_test.join(y_test_cb_pred), label_names=['IS_DEFAULT'],\n",
        "#                               protected_attribute_names=['GENDER'],\n",
        "#                               favorable_label=0, unfavorable_label=1)\n",
        "\n",
        "# Calculate fairness metrics\n",
        "metric_test = BinaryLabelDatasetMetric(test_ds, unprivileged_groups=unprivileged_groups, privileged_groups=privileged_groups)\n",
        "# metric_pred = BinaryLabelDatasetMetric(pred_ds, unprivileged_groups=unprivileged_groups, privileged_groups=privileged_groups)\n",
        "\n",
        "# Disparate Impact (DI)\n",
        "di_test = metric_test.disparate_impact()\n",
        "# di_pred = metric_pred.disparate_impact()\n",
        "\n",
        "# Statistical Parity Difference (SPD)\n",
        "spd_test = metric_test.statistical_parity_difference()\n",
        "# spd_pred = metric_pred.statistical_parity_difference()\n",
        "\n",
        "# Equalized Odds Difference (SEDF)\n",
        "# seod_test = metric_test.equalized_odds_difference()\n",
        "# seod_pred = metric_pred.equalized_odds_difference()\n",
        "\n",
        "print(f\"DI (Test): {di_test}, DI (Predicted): {di_test}\")\n",
        "print(f\"SPD (Test): {spd_test}, SPD (Predicted): {di_test}\")\n",
        "# print(f\"SEDF (Test): {seod_test}, SEDF (Predicted): {di_test}\")"
      ],
      "metadata": {
        "id": "sJSFCXYSV-WA"
      },
      "execution_count": null,
      "outputs": []
    },
    {
      "cell_type": "code",
      "source": [
        "# class_weights = [0.8,0.2]\n",
        "test_pred_ds = test_ds.copy(deepcopy=True)\n",
        "cb_mdl = CatBoostClassifier(iterations=500, learning_rate=0.5, depth=8,class_weights = [0.9,0.1])\n",
        "fitted_cb_mdl = cb_mdl.fit(X_train, y_train, verbose=False)\n",
        "y_test_cb_pred = fitted_cb_mdl .predict(X_test)\n",
        "cf_matrix = metrics.confusion_matrix(y_test,\\\n",
        "y_test_cb_pred)\n",
        "print(\"POSW CatBoostClassifier\\n\",cf_matrix)"
      ],
      "metadata": {
        "colab": {
          "base_uri": "https://localhost:8080/"
        },
        "id": "dQBqYXIZEGWd",
        "outputId": "ff566812-f306-473f-c618-bc893ac88812"
      },
      "execution_count": 13,
      "outputs": [
        {
          "output_type": "stream",
          "name": "stdout",
          "text": [
            "POSW CatBoostClassifier\n",
            " [[5518  194]\n",
            " [1206  377]]\n"
          ]
        }
      ]
    },
    {
      "cell_type": "code",
      "source": [
        "plt.figure(figsize=(6, 5))\n",
        "sns.heatmap(cf_matrix/np.sum(cf_matrix), annot=True,\\\n",
        "fmt='.2%', cmap='Blues', annot_kws={'size':16})"
      ],
      "metadata": {
        "colab": {
          "base_uri": "https://localhost:8080/",
          "height": 467
        },
        "id": "E6Vy8m_OEj2W",
        "outputId": "032e1687-5cb3-4684-b29c-1c63aac8fe50"
      },
      "execution_count": 23,
      "outputs": [
        {
          "output_type": "execute_result",
          "data": {
            "text/plain": [
              "<Axes: >"
            ]
          },
          "metadata": {},
          "execution_count": 23
        },
        {
          "output_type": "display_data",
          "data": {
            "text/plain": [
              "<Figure size 600x500 with 2 Axes>"
            ],
            "image/png": "[encoded data removed]"
          },
          "metadata": {}
        }
      ]
    },
    {
      "cell_type": "code",
      "source": [
        "accuracy = accuracy_score(y_test, y_test_cb_pred)\n",
        "print(f\"Accuracy: {accuracy}\")"
      ],
      "metadata": {
        "colab": {
          "base_uri": "https://localhost:8080/"
        },
        "id": "qMMc4yTQLJdg",
        "outputId": "cdb78265-035d-4fcb-a1dd-2deb8c351f9f"
      },
      "execution_count": 29,
      "outputs": [
        {
          "output_type": "stream",
          "name": "stdout",
          "text": [
            "Accuracy: 0.8080877313228239\n"
          ]
        }
      ]
    },
    {
      "cell_type": "code",
      "source": [
        "!pip install fairlearn"
      ],
      "metadata": {
        "id": "gLIEJIykNgKx"
      },
      "execution_count": null,
      "outputs": []
    },
    {
      "cell_type": "code",
      "source": [
        "from aif360.algorithms.preprocessing.reweighing import Reweighing\n",
        "reweigher = Reweighing(unprivileged_groups=unprivileged_groups,\\\n",
        "privileged_groups=privileged_groups)\n",
        "reweigher.fit(train_ds)\n",
        "train_rw_ds = reweigher.transform(train_ds)"
      ],
      "metadata": {
        "id": "BhV8q6uhMQx-"
      },
      "execution_count": 14,
      "outputs": []
    },
    {
      "cell_type": "code",
      "source": [
        "from aif360.metrics import BinaryLabelDatasetMetric\n",
        "metrics_train_rw_ds = BinaryLabelDatasetMetric(train_rw_ds,\\\n",
        "unprivileged_groups=unprivileged_groups,\\\n",
        "privileged_groups=privileged_groups)\n",
        "print('Reweigher (REW) Statistical Parity Difference (SPD):\\t\\t\\t%.4f' %\\\n",
        "metrics_train_rw_ds.statistical_parity_difference())\n",
        "print('REW Disparate Impact (DI):\\t\\t\\t\\t\\t%.4f' %\\\n",
        "metrics_train_rw_ds.disparate_impact())\n",
        "print('REW Smoothed Empirical Differential Fairness (SEDF):\\t%.4f' %\\\n",
        "metrics_train_rw_ds.smoothed_empirical_differential_fairness())\n",
        "np.abs(train_ds.instance_weights.mean() - train_rw_ds.instance_weights.mean())"
      ],
      "metadata": {
        "colab": {
          "base_uri": "https://localhost:8080/"
        },
        "id": "784O6ZQANDyU",
        "outputId": "8a97d1f8-adea-4756-dec8-8f3df8f33089"
      },
      "execution_count": 15,
      "outputs": [
        {
          "output_type": "stream",
          "name": "stdout",
          "text": [
            "Reweigher (REW) Statistical Parity Difference (SPD):\t\t\t0.0000\n",
            "REW Disparate Impact (DI):\t\t\t\t\t1.0000\n",
            "REW Smoothed Empirical Differential Fairness (SEDF):\t0.0001\n"
          ]
        },
        {
          "output_type": "execute_result",
          "data": {
            "text/plain": [
              "2.220446049250313e-16"
            ]
          },
          "metadata": {},
          "execution_count": 15
        }
      ]
    },
    {
      "cell_type": "code",
      "source": [
        "cb_mdl = CatBoostClassifier(iterations=500, learning_rate=0.5, depth=8)\n",
        "fitted_cb_mdl = cb_mdl.fit(X_train, y_train, verbose=False,\n",
        "sample_weight=train_rw_ds.instance_weights)\n",
        "y_test_cb_pred = fitted_cb_mdl .predict(X_test)\n",
        "cf_matrix = metrics.confusion_matrix(y_test,\\\n",
        "y_test_cb_pred)"
      ],
      "metadata": {
        "id": "NKp9LxKoRmN2"
      },
      "execution_count": 16,
      "outputs": []
    },
    {
      "cell_type": "code",
      "source": [
        "plt.figure(figsize=(6, 5))\n",
        "sns.heatmap(cf_matrix/np.sum(cf_matrix), annot=True,\\\n",
        "fmt='.2%', cmap='Blues', annot_kws={'size':16})"
      ],
      "metadata": {
        "id": "akncZeDiR0NB",
        "outputId": "653ee7d9-83f9-4836-aac5-ad2c6c1b6269",
        "colab": {
          "base_uri": "https://localhost:8080/",
          "height": 467
        }
      },
      "execution_count": 17,
      "outputs": [
        {
          "output_type": "execute_result",
          "data": {
            "text/plain": [
              "<Axes: >"
            ]
          },
          "metadata": {},
          "execution_count": 17
        },
        {
          "output_type": "display_data",
          "data": {
            "text/plain": [
              "<Figure size 600x500 with 2 Axes>"
            ],
            "image/png": "[encoded data removed]"
          },
          "metadata": {}
        }
      ]
    },
    {
      "cell_type": "code",
      "source": [
        "from aif360.algorithms.inprocessing import PrejudiceRemover\n",
        "log_pr_mdl = PrejudiceRemover(eta=1.0, sensitive_attr='GENDER',class_attr='IS_DEFAULT')\n",
        "log_pr_mdl.fit(train_ds)\n",
        "train_pred_pr_ds = log_pr_mdl.predict(train_ds)\n",
        "test_pred_pr_ds = log_pr_mdl.predict(test_ds)"
      ],
      "metadata": {
        "id": "7lYYPYozDdPG"
      },
      "execution_count": 18,
      "outputs": []
    },
    {
      "cell_type": "code",
      "source": [
        "metrics_train_pr_ds = BinaryLabelDatasetMetric(train_pred_pr_ds,\\\n",
        "unprivileged_groups=unprivileged_groups,\\\n",
        "privileged_groups=privileged_groups)\n",
        "print('Reweigher (REW) Statistical Parity Difference (SPD):\\t\\t\\t%.4f' %\\\n",
        "metrics_train_pr_ds.statistical_parity_difference())\n",
        "print('REW Disparate Impact (DI):\\t\\t\\t\\t\\t%.4f' %\\\n",
        "metrics_train_pr_ds.disparate_impact())\n",
        "print('REW Smoothed Empirical Differential Fairness (SEDF):\\t%.4f' %\\\n",
        "metrics_train_pr_ds.smoothed_empirical_differential_fairness())"
      ],
      "metadata": {
        "colab": {
          "base_uri": "https://localhost:8080/"
        },
        "id": "OwBVnG55C7Sh",
        "outputId": "688a21c7-2ce2-4e00-e131-c0b193bd8cf3"
      },
      "execution_count": 19,
      "outputs": [
        {
          "output_type": "stream",
          "name": "stdout",
          "text": [
            "Reweigher (REW) Statistical Parity Difference (SPD):\t\t\t-0.0406\n",
            "REW Disparate Impact (DI):\t\t\t\t\t0.5208\n",
            "REW Smoothed Empirical Differential Fairness (SEDF):\t0.6522\n"
          ]
        }
      ]
    },
    {
      "cell_type": "code",
      "source": [
        "from catboost import CatBoostClassifier\n",
        "cb_mdl = CatBoostClassifier(iterations=500, learning_rate=0.5, depth=8)\n",
        "fitted_cb_mdl = cb_mdl.fit(X_train, y_train, verbose=False)\n",
        "y_test_cb_pred = fitted_cb_mdl .predict(X_test)"
      ],
      "metadata": {
        "id": "5zC0teFJKtaJ"
      },
      "execution_count": 20,
      "outputs": []
    },
    {
      "cell_type": "code",
      "source": [
        "from aif360.datasets import BinaryLabelDataset\n",
        "test_ds = BinaryLabelDataset(df=X_test.join(y_test),\\\n",
        "label_names=['IS_DEFAULT'],\\\n",
        "protected_attribute_names=['GENDER'],\n",
        "favorable_label=0, unfavorable_label=1)\n",
        "X_posw = X_test.copy()\n",
        "X_posw['IS_DEFAULT'] = y_test_cb_pred\n",
        "y_test_cb_pred = BinaryLabelDataset(df=X_posw,\\\n",
        "label_names=['IS_DEFAULT'],\\\n",
        "protected_attribute_names=['GENDER'],\n",
        "favorable_label=0, unfavorable_label=1)"
      ],
      "metadata": {
        "id": "BauB80y2MOS-"
      },
      "execution_count": 21,
      "outputs": []
    },
    {
      "cell_type": "code",
      "source": [
        "from aif360.algorithms.postprocessing import EqOddsPostprocessing\n",
        "\n",
        "epp = EqOddsPostprocessing(privileged_groups=privileged_groups,\\\n",
        "unprivileged_groups=unprivileged_groups,\\\n",
        "seed=rand)"
      ],
      "metadata": {
        "id": "j050KKH3MigK"
      },
      "execution_count": 22,
      "outputs": []
    },
    {
      "cell_type": "code",
      "source": [
        "epp = epp.fit(test_ds, y_test_cb_pred)\n",
        "test_pred_epp_ds = epp.predict(y_test_cb_pred)"
      ],
      "metadata": {
        "id": "nk8yecZmNBcb"
      },
      "execution_count": 23,
      "outputs": []
    },
    {
      "cell_type": "code",
      "source": [
        "metrics_test_dir_ds = BinaryLabelDatasetMetric(test_pred_epp_ds,\\\n",
        "unprivileged_groups=unprivileged_groups,\\\n",
        "privileged_groups=privileged_groups)\n",
        "print('EPP Statistical Parity Difference (SPD):\\t\\t\\t%.4f' %\\\n",
        "metrics_test_dir_ds.statistical_parity_difference())\n",
        "print('EPP Disparate Impact (DI):\\t\\t\\t\\t\\t%.4f' %\\\n",
        "metrics_test_dir_ds.disparate_impact())\n",
        "print('EPP Smoothed Empirical Differential Fairness (SEDF):\\t%.4f' %\\\n",
        "metrics_test_dir_ds.smoothed_empirical_differential_fairness())\n",
        "print (\"EPP Difference in mean outcomes TEST between unprivileged and privileged groups in percent\" ,round(metrics_test_dir_ds.mean_difference()*100,2))"
      ],
      "metadata": {
        "colab": {
          "base_uri": "https://localhost:8080/"
        },
        "id": "Ld_bFvoNNIg5",
        "outputId": "f61b818f-93fc-4b4c-e896-9092081890c6"
      },
      "execution_count": 24,
      "outputs": [
        {
          "output_type": "stream",
          "name": "stdout",
          "text": [
            "EPP Statistical Parity Difference (SPD):\t\t\t0.0062\n",
            "EPP Disparate Impact (DI):\t\t\t\t\t1.0075\n",
            "EPP Smoothed Empirical Differential Fairness (SEDF):\t0.0396\n",
            "EPP Difference in mean outcomes TEST between unprivileged and privileged groups in percent 0.62\n"
          ]
        }
      ]
    },
    {
      "cell_type": "code",
      "source": [],
      "metadata": {
        "id": "6LHShd4fu2Ek"
      },
      "execution_count": null,
      "outputs": []
    }
  ]
}