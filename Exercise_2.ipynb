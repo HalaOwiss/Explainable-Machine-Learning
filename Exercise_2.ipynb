{
  "nbformat": 4,
  "nbformat_minor": 0,
  "metadata": {
    "colab": {
      "provenance": []
    },
    "kernelspec": {
      "name": "python3",
      "display_name": "Python 3"
    },
    "language_info": {
      "name": "python"
    }
  },
  "cells": [
    {
      "cell_type": "code",
      "execution_count": null,
      "metadata": {
        "colab": {
          "base_uri": "https://localhost:8080/",
          "height": 359
        },
        "id": "1Tl0XjmFvMuE",
        "outputId": "519a180d-8ebe-42ad-a263-ab36eecfd1f5"
      },
      "outputs": [
        {
          "output_type": "execute_result",
          "data": {
            "text/plain": [
              "      FL_DATE OP_CARRIER  OP_CARRIER_FL_NUM ORIGIN DEST  CRS_DEP_TIME  \\\n",
              "0  2018-01-01         UA               2429    EWR  DEN          1517   \n",
              "1  2018-01-01         UA               2427    LAS  SFO          1115   \n",
              "2  2018-01-01         UA               2426    SNA  DEN          1335   \n",
              "3  2018-01-01         UA               2425    RSW  ORD          1546   \n",
              "4  2018-01-01         UA               2424    ORD  ALB           630   \n",
              "\n",
              "   DEP_TIME  DEP_DELAY  TAXI_OUT  WHEELS_OFF  ...  CRS_ELAPSED_TIME  \\\n",
              "0    1512.0       -5.0      15.0      1527.0  ...             268.0   \n",
              "1    1107.0       -8.0      11.0      1118.0  ...              99.0   \n",
              "2    1330.0       -5.0      15.0      1345.0  ...             134.0   \n",
              "3    1552.0        6.0      19.0      1611.0  ...             190.0   \n",
              "4     650.0       20.0      13.0       703.0  ...             112.0   \n",
              "\n",
              "   ACTUAL_ELAPSED_TIME  AIR_TIME  DISTANCE  CARRIER_DELAY  WEATHER_DELAY  \\\n",
              "0                250.0     225.0    1605.0            0.0            0.0   \n",
              "1                 83.0      65.0     414.0            0.0            0.0   \n",
              "2                126.0     106.0     846.0            0.0            0.0   \n",
              "3                182.0     157.0    1120.0            0.0            0.0   \n",
              "4                106.0      83.0     723.0            0.0            0.0   \n",
              "\n",
              "  NAS_DELAY  SECURITY_DELAY  LATE_AIRCRAFT_DELAY  Unnamed: 27  \n",
              "0       0.0             0.0                  0.0          NaN  \n",
              "1       0.0             0.0                  0.0          NaN  \n",
              "2       0.0             0.0                  0.0          NaN  \n",
              "3       0.0             0.0                  0.0          NaN  \n",
              "4       0.0             0.0                  0.0          NaN  \n",
              "\n",
              "[5 rows x 28 columns]"
            ],
            "text/html": [
              "\n",
              "  <div id=\"df-232f4d02-c842-48cc-a169-01dcccb85c52\" class=\"colab-df-container\">\n",
              "    <div>\n",
              "<style scoped>\n",
              "    .dataframe tbody tr th:only-of-type {\n",
              "        vertical-align: middle;\n",
              "    }\n",
              "\n",
              "    .dataframe tbody tr th {\n",
              "        vertical-align: top;\n",
              "    }\n",
              "\n",
              "    .dataframe thead th {\n",
              "        text-align: right;\n",
              "    }\n",
              "</style>\n",
              "<table border=\"1\" class=\"dataframe\">\n",
              "  <thead>\n",
              "    <tr style=\"text-align: right;\">\n",
              "      <th></th>\n",
              "      <th>FL_DATE</th>\n",
              "      <th>OP_CARRIER</th>\n",
              "      <th>OP_CARRIER_FL_NUM</th>\n",
              "      <th>ORIGIN</th>\n",
              "      <th>DEST</th>\n",
              "      <th>CRS_DEP_TIME</th>\n",
              "      <th>DEP_TIME</th>\n",
              "      <th>DEP_DELAY</th>\n",
              "      <th>TAXI_OUT</th>\n",
              "      <th>WHEELS_OFF</th>\n",
              "      <th>...</th>\n",
              "      <th>CRS_ELAPSED_TIME</th>\n",
              "      <th>ACTUAL_ELAPSED_TIME</th>\n",
              "      <th>AIR_TIME</th>\n",
              "      <th>DISTANCE</th>\n",
              "      <th>CARRIER_DELAY</th>\n",
              "      <th>WEATHER_DELAY</th>\n",
              "      <th>NAS_DELAY</th>\n",
              "      <th>SECURITY_DELAY</th>\n",
              "      <th>LATE_AIRCRAFT_DELAY</th>\n",
              "      <th>Unnamed: 27</th>\n",
              "    </tr>\n",
              "  </thead>\n",
              "  <tbody>\n",
              "    <tr>\n",
              "      <th>0</th>\n",
              "      <td>2018-01-01</td>\n",
              "      <td>UA</td>\n",
              "      <td>2429</td>\n",
              "      <td>EWR</td>\n",
              "      <td>DEN</td>\n",
              "      <td>1517</td>\n",
              "      <td>1512.0</td>\n",
              "      <td>-5.0</td>\n",
              "      <td>15.0</td>\n",
              "      <td>1527.0</td>\n",
              "      <td>...</td>\n",
              "      <td>268.0</td>\n",
              "      <td>250.0</td>\n",
              "      <td>225.0</td>\n",
              "      <td>1605.0</td>\n",
              "      <td>0.0</td>\n",
              "      <td>0.0</td>\n",
              "      <td>0.0</td>\n",
              "      <td>0.0</td>\n",
              "      <td>0.0</td>\n",
              "      <td>NaN</td>\n",
              "    </tr>\n",
              "    <tr>\n",
              "      <th>1</th>\n",
              "      <td>2018-01-01</td>\n",
              "      <td>UA</td>\n",
              "      <td>2427</td>\n",
              "      <td>LAS</td>\n",
              "      <td>SFO</td>\n",
              "      <td>1115</td>\n",
              "      <td>1107.0</td>\n",
              "      <td>-8.0</td>\n",
              "      <td>11.0</td>\n",
              "      <td>1118.0</td>\n",
              "      <td>...</td>\n",
              "      <td>99.0</td>\n",
              "      <td>83.0</td>\n",
              "      <td>65.0</td>\n",
              "      <td>414.0</td>\n",
              "      <td>0.0</td>\n",
              "      <td>0.0</td>\n",
              "      <td>0.0</td>\n",
              "      <td>0.0</td>\n",
              "      <td>0.0</td>\n",
              "      <td>NaN</td>\n",
              "    </tr>\n",
              "    <tr>\n",
              "      <th>2</th>\n",
              "      <td>2018-01-01</td>\n",
              "      <td>UA</td>\n",
              "      <td>2426</td>\n",
              "      <td>SNA</td>\n",
              "      <td>DEN</td>\n",
              "      <td>1335</td>\n",
              "      <td>1330.0</td>\n",
              "      <td>-5.0</td>\n",
              "      <td>15.0</td>\n",
              "      <td>1345.0</td>\n",
              "      <td>...</td>\n",
              "      <td>134.0</td>\n",
              "      <td>126.0</td>\n",
              "      <td>106.0</td>\n",
              "      <td>846.0</td>\n",
              "      <td>0.0</td>\n",
              "      <td>0.0</td>\n",
              "      <td>0.0</td>\n",
              "      <td>0.0</td>\n",
              "      <td>0.0</td>\n",
              "      <td>NaN</td>\n",
              "    </tr>\n",
              "    <tr>\n",
              "      <th>3</th>\n",
              "      <td>2018-01-01</td>\n",
              "      <td>UA</td>\n",
              "      <td>2425</td>\n",
              "      <td>RSW</td>\n",
              "      <td>ORD</td>\n",
              "      <td>1546</td>\n",
              "      <td>1552.0</td>\n",
              "      <td>6.0</td>\n",
              "      <td>19.0</td>\n",
              "      <td>1611.0</td>\n",
              "      <td>...</td>\n",
              "      <td>190.0</td>\n",
              "      <td>182.0</td>\n",
              "      <td>157.0</td>\n",
              "      <td>1120.0</td>\n",
              "      <td>0.0</td>\n",
              "      <td>0.0</td>\n",
              "      <td>0.0</td>\n",
              "      <td>0.0</td>\n",
              "      <td>0.0</td>\n",
              "      <td>NaN</td>\n",
              "    </tr>\n",
              "    <tr>\n",
              "      <th>4</th>\n",
              "      <td>2018-01-01</td>\n",
              "      <td>UA</td>\n",
              "      <td>2424</td>\n",
              "      <td>ORD</td>\n",
              "      <td>ALB</td>\n",
              "      <td>630</td>\n",
              "      <td>650.0</td>\n",
              "      <td>20.0</td>\n",
              "      <td>13.0</td>\n",
              "      <td>703.0</td>\n",
              "      <td>...</td>\n",
              "      <td>112.0</td>\n",
              "      <td>106.0</td>\n",
              "      <td>83.0</td>\n",
              "      <td>723.0</td>\n",
              "      <td>0.0</td>\n",
              "      <td>0.0</td>\n",
              "      <td>0.0</td>\n",
              "      <td>0.0</td>\n",
              "      <td>0.0</td>\n",
              "      <td>NaN</td>\n",
              "    </tr>\n",
              "  </tbody>\n",
              "</table>\n",
              "<p>5 rows × 28 columns</p>\n",
              "</div>\n",
              "    <div class=\"colab-df-buttons\">\n",
              "\n",
              "  <div class=\"colab-df-container\">\n",
              "    <button class=\"colab-df-convert\" onclick=\"convertToInteractive('df-232f4d02-c842-48cc-a169-01dcccb85c52')\"\n",
              "            title=\"Convert this dataframe to an interactive table.\"\n",
              "            style=\"display:none;\">\n",
              "\n",
              "  <svg xmlns=\"http://www.w3.org/2000/svg\" height=\"24px\" viewBox=\"0 -960 960 960\">\n",
              "    <path d=\"M120-120v-720h720v720H120Zm60-500h600v-160H180v160Zm220 220h160v-160H400v160Zm0 220h160v-160H400v160ZM180-400h160v-160H180v160Zm440 0h160v-160H620v160ZM180-180h160v-160H180v160Zm440 0h160v-160H620v160Z\"/>\n",
              "  </svg>\n",
              "    </button>\n",
              "\n",
              "  <style>\n",
              "    .colab-df-container {\n",
              "      display:flex;\n",
              "      gap: 12px;\n",
              "    }\n",
              "\n",
              "    .colab-df-convert {\n",
              "      background-color: #E8F0FE;\n",
              "      border: none;\n",
              "      border-radius: 50%;\n",
              "      cursor: pointer;\n",
              "      display: none;\n",
              "      fill: #1967D2;\n",
              "      height: 32px;\n",
              "      padding: 0 0 0 0;\n",
              "      width: 32px;\n",
              "    }\n",
              "\n",
              "    .colab-df-convert:hover {\n",
              "      background-color: #E2EBFA;\n",
              "      box-shadow: 0px 1px 2px rgba(60, 64, 67, 0.3), 0px 1px 3px 1px rgba(60, 64, 67, 0.15);\n",
              "      fill: #174EA6;\n",
              "    }\n",
              "\n",
              "    .colab-df-buttons div {\n",
              "      margin-bottom: 4px;\n",
              "    }\n",
              "\n",
              "    [theme=dark] .colab-df-convert {\n",
              "      background-color: #3B4455;\n",
              "      fill: #D2E3FC;\n",
              "    }\n",
              "\n",
              "    [theme=dark] .colab-df-convert:hover {\n",
              "      background-color: #434B5C;\n",
              "      box-shadow: 0px 1px 3px 1px rgba(0, 0, 0, 0.15);\n",
              "      filter: drop-shadow(0px 1px 2px rgba(0, 0, 0, 0.3));\n",
              "      fill: #FFFFFF;\n",
              "    }\n",
              "  </style>\n",
              "\n",
              "    <script>\n",
              "      const buttonEl =\n",
              "        document.querySelector('#df-232f4d02-c842-48cc-a169-01dcccb85c52 button.colab-df-convert');\n",
              "      buttonEl.style.display =\n",
              "        google.colab.kernel.accessAllowed ? 'block' : 'none';\n",
              "\n",
              "      async function convertToInteractive(key) {\n",
              "        const element = document.querySelector('#df-232f4d02-c842-48cc-a169-01dcccb85c52');\n",
              "        const dataTable =\n",
              "          await google.colab.kernel.invokeFunction('convertToInteractive',\n",
              "                                                    [key], {});\n",
              "        if (!dataTable) return;\n",
              "\n",
              "        const docLinkHtml = 'Like what you see? Visit the ' +\n",
              "          '<a target=\"_blank\" href=https://colab.research.google.com/notebooks/data_table.ipynb>data table notebook</a>'\n",
              "          + ' to learn more about interactive tables.';\n",
              "        element.innerHTML = '';\n",
              "        dataTable['output_type'] = 'display_data';\n",
              "        await google.colab.output.renderOutput(dataTable, element);\n",
              "        const docLink = document.createElement('div');\n",
              "        docLink.innerHTML = docLinkHtml;\n",
              "        element.appendChild(docLink);\n",
              "      }\n",
              "    </script>\n",
              "  </div>\n",
              "\n",
              "\n",
              "<div id=\"df-96c03b68-40ac-4733-b72a-552e34f1409b\">\n",
              "  <button class=\"colab-df-quickchart\" onclick=\"quickchart('df-96c03b68-40ac-4733-b72a-552e34f1409b')\"\n",
              "            title=\"Suggest charts\"\n",
              "            style=\"display:none;\">\n",
              "\n",
              "<svg xmlns=\"http://www.w3.org/2000/svg\" height=\"24px\"viewBox=\"0 0 24 24\"\n",
              "     width=\"24px\">\n",
              "    <g>\n",
              "        <path d=\"M19 3H5c-1.1 0-2 .9-2 2v14c0 1.1.9 2 2 2h14c1.1 0 2-.9 2-2V5c0-1.1-.9-2-2-2zM9 17H7v-7h2v7zm4 0h-2V7h2v10zm4 0h-2v-4h2v4z\"/>\n",
              "    </g>\n",
              "</svg>\n",
              "  </button>\n",
              "\n",
              "<style>\n",
              "  .colab-df-quickchart {\n",
              "      --bg-color: #E8F0FE;\n",
              "      --fill-color: #1967D2;\n",
              "      --hover-bg-color: #E2EBFA;\n",
              "      --hover-fill-color: #174EA6;\n",
              "      --disabled-fill-color: #AAA;\n",
              "      --disabled-bg-color: #DDD;\n",
              "  }\n",
              "\n",
              "  [theme=dark] .colab-df-quickchart {\n",
              "      --bg-color: #3B4455;\n",
              "      --fill-color: #D2E3FC;\n",
              "      --hover-bg-color: #434B5C;\n",
              "      --hover-fill-color: #FFFFFF;\n",
              "      --disabled-bg-color: #3B4455;\n",
              "      --disabled-fill-color: #666;\n",
              "  }\n",
              "\n",
              "  .colab-df-quickchart {\n",
              "    background-color: var(--bg-color);\n",
              "    border: none;\n",
              "    border-radius: 50%;\n",
              "    cursor: pointer;\n",
              "    display: none;\n",
              "    fill: var(--fill-color);\n",
              "    height: 32px;\n",
              "    padding: 0;\n",
              "    width: 32px;\n",
              "  }\n",
              "\n",
              "  .colab-df-quickchart:hover {\n",
              "    background-color: var(--hover-bg-color);\n",
              "    box-shadow: 0 1px 2px rgba(60, 64, 67, 0.3), 0 1px 3px 1px rgba(60, 64, 67, 0.15);\n",
              "    fill: var(--button-hover-fill-color);\n",
              "  }\n",
              "\n",
              "  .colab-df-quickchart-complete:disabled,\n",
              "  .colab-df-quickchart-complete:disabled:hover {\n",
              "    background-color: var(--disabled-bg-color);\n",
              "    fill: var(--disabled-fill-color);\n",
              "    box-shadow: none;\n",
              "  }\n",
              "\n",
              "  .colab-df-spinner {\n",
              "    border: 2px solid var(--fill-color);\n",
              "    border-color: transparent;\n",
              "    border-bottom-color: var(--fill-color);\n",
              "    animation:\n",
              "      spin 1s steps(1) infinite;\n",
              "  }\n",
              "\n",
              "  @keyframes spin {\n",
              "    0% {\n",
              "      border-color: transparent;\n",
              "      border-bottom-color: var(--fill-color);\n",
              "      border-left-color: var(--fill-color);\n",
              "    }\n",
              "    20% {\n",
              "      border-color: transparent;\n",
              "      border-left-color: var(--fill-color);\n",
              "      border-top-color: var(--fill-color);\n",
              "    }\n",
              "    30% {\n",
              "      border-color: transparent;\n",
              "      border-left-color: var(--fill-color);\n",
              "      border-top-color: var(--fill-color);\n",
              "      border-right-color: var(--fill-color);\n",
              "    }\n",
              "    40% {\n",
              "      border-color: transparent;\n",
              "      border-right-color: var(--fill-color);\n",
              "      border-top-color: var(--fill-color);\n",
              "    }\n",
              "    60% {\n",
              "      border-color: transparent;\n",
              "      border-right-color: var(--fill-color);\n",
              "    }\n",
              "    80% {\n",
              "      border-color: transparent;\n",
              "      border-right-color: var(--fill-color);\n",
              "      border-bottom-color: var(--fill-color);\n",
              "    }\n",
              "    90% {\n",
              "      border-color: transparent;\n",
              "      border-bottom-color: var(--fill-color);\n",
              "    }\n",
              "  }\n",
              "</style>\n",
              "\n",
              "  <script>\n",
              "    async function quickchart(key) {\n",
              "      const quickchartButtonEl =\n",
              "        document.querySelector('#' + key + ' button');\n",
              "      quickchartButtonEl.disabled = true;  // To prevent multiple clicks.\n",
              "      quickchartButtonEl.classList.add('colab-df-spinner');\n",
              "      try {\n",
              "        const charts = await google.colab.kernel.invokeFunction(\n",
              "            'suggestCharts', [key], {});\n",
              "      } catch (error) {\n",
              "        console.error('Error during call to suggestCharts:', error);\n",
              "      }\n",
              "      quickchartButtonEl.classList.remove('colab-df-spinner');\n",
              "      quickchartButtonEl.classList.add('colab-df-quickchart-complete');\n",
              "    }\n",
              "    (() => {\n",
              "      let quickchartButtonEl =\n",
              "        document.querySelector('#df-96c03b68-40ac-4733-b72a-552e34f1409b button');\n",
              "      quickchartButtonEl.style.display =\n",
              "        google.colab.kernel.accessAllowed ? 'block' : 'none';\n",
              "    })();\n",
              "  </script>\n",
              "</div>\n",
              "    </div>\n",
              "  </div>\n"
            ]
          },
          "metadata": {},
          "execution_count": 1
        }
      ],
      "source": [
        "import pandas as pd\n",
        "\n",
        "flight_delays = pd.read_csv(r'/content/aa-delays-2023 (1).csv',sep=',')\n",
        "flight_delays.head(5)"
      ]
    },
    {
      "cell_type": "markdown",
      "source": [
        "Print features"
      ],
      "metadata": {
        "id": "zp04pLz5t_WP"
      }
    },
    {
      "cell_type": "code",
      "source": [
        "flight_delays.info()"
      ],
      "metadata": {
        "colab": {
          "base_uri": "https://localhost:8080/"
        },
        "id": "UALBhiTewVON",
        "outputId": "f12b06e7-f605-49a1-9df5-97a4a6444ad8"
      },
      "execution_count": null,
      "outputs": [
        {
          "output_type": "stream",
          "name": "stdout",
          "text": [
            "<class 'pandas.core.frame.DataFrame'>\n",
            "RangeIndex: 2836 entries, 0 to 2835\n",
            "Data columns (total 28 columns):\n",
            " #   Column               Non-Null Count  Dtype  \n",
            "---  ------               --------------  -----  \n",
            " 0   FL_DATE              2836 non-null   object \n",
            " 1   OP_CARRIER           2836 non-null   object \n",
            " 2   OP_CARRIER_FL_NUM    2836 non-null   int64  \n",
            " 3   ORIGIN               2836 non-null   object \n",
            " 4   DEST                 2836 non-null   object \n",
            " 5   CRS_DEP_TIME         2836 non-null   int64  \n",
            " 6   DEP_TIME             2836 non-null   float64\n",
            " 7   DEP_DELAY            2836 non-null   float64\n",
            " 8   TAXI_OUT             2836 non-null   float64\n",
            " 9   WHEELS_OFF           2836 non-null   float64\n",
            " 10  WHEELS_ON            2836 non-null   float64\n",
            " 11  TAXI_IN              2836 non-null   float64\n",
            " 12  CRS_ARR_TIME         2836 non-null   int64  \n",
            " 13  ARR_TIME             2836 non-null   float64\n",
            " 14  ARR_DELAY            2836 non-null   float64\n",
            " 15  CANCELLED            2836 non-null   float64\n",
            " 16  CANCELLATION_CODE    2836 non-null   object \n",
            " 17  DIVERTED             2836 non-null   float64\n",
            " 18  CRS_ELAPSED_TIME     2836 non-null   float64\n",
            " 19  ACTUAL_ELAPSED_TIME  2836 non-null   float64\n",
            " 20  AIR_TIME             2836 non-null   float64\n",
            " 21  DISTANCE             2836 non-null   float64\n",
            " 22  CARRIER_DELAY        2836 non-null   float64\n",
            " 23  WEATHER_DELAY        2836 non-null   float64\n",
            " 24  NAS_DELAY            2836 non-null   float64\n",
            " 25  SECURITY_DELAY       2836 non-null   float64\n",
            " 26  LATE_AIRCRAFT_DELAY  2836 non-null   float64\n",
            " 27  Unnamed: 27          0 non-null      float64\n",
            "dtypes: float64(20), int64(3), object(5)\n",
            "memory usage: 620.5+ KB\n"
          ]
        }
      ]
    },
    {
      "cell_type": "markdown",
      "source": [
        " Influence of WEATHER_DELAY on ARR_DELAY"
      ],
      "metadata": {
        "id": "S6Vl7ib2uYR7"
      }
    },
    {
      "cell_type": "code",
      "source": [
        "flight_delays[['WEATHER_DELAY','ARR_DELAY']].corr()['ARR_DELAY'][:]"
      ],
      "metadata": {
        "id": "AKOkDdV2wWGf",
        "colab": {
          "base_uri": "https://localhost:8080/"
        },
        "outputId": "49ab7d49-3e67-4416-d496-a782cc16b913"
      },
      "execution_count": null,
      "outputs": [
        {
          "output_type": "execute_result",
          "data": {
            "text/plain": [
              "WEATHER_DELAY    0.340569\n",
              "ARR_DELAY        1.000000\n",
              "Name: ARR_DELAY, dtype: float64"
            ]
          },
          "metadata": {},
          "execution_count": 3
        }
      ]
    },
    {
      "cell_type": "code",
      "source": [
        "object_columns = flight_delays.select_dtypes(include=['object']).columns"
      ],
      "metadata": {
        "id": "j4AN-TdYMftL"
      },
      "execution_count": null,
      "outputs": []
    },
    {
      "cell_type": "code",
      "source": [
        "object_columns"
      ],
      "metadata": {
        "colab": {
          "base_uri": "https://localhost:8080/"
        },
        "id": "6_MEUyGAS9l4",
        "outputId": "53a80263-2611-4331-9e3d-92ba28a28503"
      },
      "execution_count": null,
      "outputs": [
        {
          "output_type": "execute_result",
          "data": {
            "text/plain": [
              "Index(['FL_DATE', 'OP_CARRIER', 'ORIGIN', 'DEST', 'CANCELLATION_CODE'], dtype='object')"
            ]
          },
          "metadata": {},
          "execution_count": 5
        }
      ]
    },
    {
      "cell_type": "code",
      "source": [
        "y=flight_delays['ARR_DELAY']\n",
        "x=flight_delays.drop(object_columns,axis=1).copy()\n",
        "x=x.drop(['ARR_DELAY'],axis=1).copy()"
      ],
      "metadata": {
        "id": "CeHqdugXS_T6"
      },
      "execution_count": null,
      "outputs": []
    },
    {
      "cell_type": "code",
      "source": [
        "y"
      ],
      "metadata": {
        "colab": {
          "base_uri": "https://localhost:8080/"
        },
        "id": "Hkar41PmeEQD",
        "outputId": "bec25fde-021e-44c4-9f10-88c930356bb9"
      },
      "execution_count": null,
      "outputs": [
        {
          "output_type": "execute_result",
          "data": {
            "text/plain": [
              "0      -23.0\n",
              "1      -24.0\n",
              "2      -13.0\n",
              "3       -2.0\n",
              "4       14.0\n",
              "        ... \n",
              "2831    44.0\n",
              "2832    -7.0\n",
              "2833    -9.0\n",
              "2834    -6.0\n",
              "2835    50.0\n",
              "Name: ARR_DELAY, Length: 2836, dtype: float64"
            ]
          },
          "metadata": {},
          "execution_count": 7
        }
      ]
    },
    {
      "cell_type": "code",
      "source": [
        "x"
      ],
      "metadata": {
        "colab": {
          "base_uri": "https://localhost:8080/",
          "height": 461
        },
        "id": "XQK2-q7aUok6",
        "outputId": "fd95519b-dea0-4ca5-b31a-565c3a57c544"
      },
      "execution_count": null,
      "outputs": [
        {
          "output_type": "execute_result",
          "data": {
            "text/plain": [
              "      OP_CARRIER_FL_NUM  CRS_DEP_TIME  DEP_TIME  DEP_DELAY  TAXI_OUT  \\\n",
              "0                  2429          1517    1512.0       -5.0      15.0   \n",
              "1                  2427          1115    1107.0       -8.0      11.0   \n",
              "2                  2426          1335    1330.0       -5.0      15.0   \n",
              "3                  2425          1546    1552.0        6.0      19.0   \n",
              "4                  2424           630     650.0       20.0      13.0   \n",
              "...                 ...           ...       ...        ...       ...   \n",
              "2831                657           713     743.0       30.0      25.0   \n",
              "2832                658          2016    2017.0        1.0      20.0   \n",
              "2833                660          1630    1621.0       -9.0      18.0   \n",
              "2834                665           750     756.0        6.0      16.0   \n",
              "2835                667          2205    2306.0       61.0      15.0   \n",
              "\n",
              "      WHEELS_OFF  WHEELS_ON  TAXI_IN  CRS_ARR_TIME  ARR_TIME  ...  \\\n",
              "0         1527.0     1712.0     10.0          1745    1722.0  ...   \n",
              "1         1118.0     1223.0      7.0          1254    1230.0  ...   \n",
              "2         1345.0     1631.0      5.0          1649    1636.0  ...   \n",
              "3         1611.0     1748.0      6.0          1756    1754.0  ...   \n",
              "4          703.0      926.0     10.0           922     936.0  ...   \n",
              "...          ...        ...      ...           ...       ...  ...   \n",
              "2831       808.0     1047.0      6.0          1009    1053.0  ...   \n",
              "2832      2037.0     2259.0      8.0          2314    2307.0  ...   \n",
              "2833      1639.0     1730.0     10.0          1749    1740.0  ...   \n",
              "2834       812.0     1126.0      4.0          1136    1130.0  ...   \n",
              "2835      2321.0      243.0      5.0           158     248.0  ...   \n",
              "\n",
              "      CRS_ELAPSED_TIME  ACTUAL_ELAPSED_TIME  AIR_TIME  DISTANCE  \\\n",
              "0                268.0                250.0     225.0    1605.0   \n",
              "1                 99.0                 83.0      65.0     414.0   \n",
              "2                134.0                126.0     106.0     846.0   \n",
              "3                190.0                182.0     157.0    1120.0   \n",
              "4                112.0                106.0      83.0     723.0   \n",
              "...                ...                  ...       ...       ...   \n",
              "2831             176.0                190.0     159.0    1062.0   \n",
              "2832             178.0                170.0     142.0    1062.0   \n",
              "2833              79.0                 79.0      51.0     280.0   \n",
              "2834             226.0                214.0     194.0    1249.0   \n",
              "2835             173.0                162.0     142.0    1179.0   \n",
              "\n",
              "      CARRIER_DELAY  WEATHER_DELAY  NAS_DELAY  SECURITY_DELAY  \\\n",
              "0               0.0            0.0        0.0             0.0   \n",
              "1               0.0            0.0        0.0             0.0   \n",
              "2               0.0            0.0        0.0             0.0   \n",
              "3               0.0            0.0        0.0             0.0   \n",
              "4               0.0            0.0        0.0             0.0   \n",
              "...             ...            ...        ...             ...   \n",
              "2831            0.0           30.0       14.0             0.0   \n",
              "2832            0.0            0.0        0.0             0.0   \n",
              "2833            0.0            0.0        0.0             0.0   \n",
              "2834            0.0            0.0        0.0             0.0   \n",
              "2835           33.0            0.0        0.0             0.0   \n",
              "\n",
              "      LATE_AIRCRAFT_DELAY  Unnamed: 27  \n",
              "0                     0.0          NaN  \n",
              "1                     0.0          NaN  \n",
              "2                     0.0          NaN  \n",
              "3                     0.0          NaN  \n",
              "4                     0.0          NaN  \n",
              "...                   ...          ...  \n",
              "2831                  0.0          NaN  \n",
              "2832                  0.0          NaN  \n",
              "2833                  0.0          NaN  \n",
              "2834                  0.0          NaN  \n",
              "2835                 17.0          NaN  \n",
              "\n",
              "[2836 rows x 22 columns]"
            ],
            "text/html": [
              "\n",
              "  <div id=\"df-f408fb88-32bd-4cdf-87ad-f32b24ef3c65\" class=\"colab-df-container\">\n",
              "    <div>\n",
              "<style scoped>\n",
              "    .dataframe tbody tr th:only-of-type {\n",
              "        vertical-align: middle;\n",
              "    }\n",
              "\n",
              "    .dataframe tbody tr th {\n",
              "        vertical-align: top;\n",
              "    }\n",
              "\n",
              "    .dataframe thead th {\n",
              "        text-align: right;\n",
              "    }\n",
              "</style>\n",
              "<table border=\"1\" class=\"dataframe\">\n",
              "  <thead>\n",
              "    <tr style=\"text-align: right;\">\n",
              "      <th></th>\n",
              "      <th>OP_CARRIER_FL_NUM</th>\n",
              "      <th>CRS_DEP_TIME</th>\n",
              "      <th>DEP_TIME</th>\n",
              "      <th>DEP_DELAY</th>\n",
              "      <th>TAXI_OUT</th>\n",
              "      <th>WHEELS_OFF</th>\n",
              "      <th>WHEELS_ON</th>\n",
              "      <th>TAXI_IN</th>\n",
              "      <th>CRS_ARR_TIME</th>\n",
              "      <th>ARR_TIME</th>\n",
              "      <th>...</th>\n",
              "      <th>CRS_ELAPSED_TIME</th>\n",
              "      <th>ACTUAL_ELAPSED_TIME</th>\n",
              "      <th>AIR_TIME</th>\n",
              "      <th>DISTANCE</th>\n",
              "      <th>CARRIER_DELAY</th>\n",
              "      <th>WEATHER_DELAY</th>\n",
              "      <th>NAS_DELAY</th>\n",
              "      <th>SECURITY_DELAY</th>\n",
              "      <th>LATE_AIRCRAFT_DELAY</th>\n",
              "      <th>Unnamed: 27</th>\n",
              "    </tr>\n",
              "  </thead>\n",
              "  <tbody>\n",
              "    <tr>\n",
              "      <th>0</th>\n",
              "      <td>2429</td>\n",
              "      <td>1517</td>\n",
              "      <td>1512.0</td>\n",
              "      <td>-5.0</td>\n",
              "      <td>15.0</td>\n",
              "      <td>1527.0</td>\n",
              "      <td>1712.0</td>\n",
              "      <td>10.0</td>\n",
              "      <td>1745</td>\n",
              "      <td>1722.0</td>\n",
              "      <td>...</td>\n",
              "      <td>268.0</td>\n",
              "      <td>250.0</td>\n",
              "      <td>225.0</td>\n",
              "      <td>1605.0</td>\n",
              "      <td>0.0</td>\n",
              "      <td>0.0</td>\n",
              "      <td>0.0</td>\n",
              "      <td>0.0</td>\n",
              "      <td>0.0</td>\n",
              "      <td>NaN</td>\n",
              "    </tr>\n",
              "    <tr>\n",
              "      <th>1</th>\n",
              "      <td>2427</td>\n",
              "      <td>1115</td>\n",
              "      <td>1107.0</td>\n",
              "      <td>-8.0</td>\n",
              "      <td>11.0</td>\n",
              "      <td>1118.0</td>\n",
              "      <td>1223.0</td>\n",
              "      <td>7.0</td>\n",
              "      <td>1254</td>\n",
              "      <td>1230.0</td>\n",
              "      <td>...</td>\n",
              "      <td>99.0</td>\n",
              "      <td>83.0</td>\n",
              "      <td>65.0</td>\n",
              "      <td>414.0</td>\n",
              "      <td>0.0</td>\n",
              "      <td>0.0</td>\n",
              "      <td>0.0</td>\n",
              "      <td>0.0</td>\n",
              "      <td>0.0</td>\n",
              "      <td>NaN</td>\n",
              "    </tr>\n",
              "    <tr>\n",
              "      <th>2</th>\n",
              "      <td>2426</td>\n",
              "      <td>1335</td>\n",
              "      <td>1330.0</td>\n",
              "      <td>-5.0</td>\n",
              "      <td>15.0</td>\n",
              "      <td>1345.0</td>\n",
              "      <td>1631.0</td>\n",
              "      <td>5.0</td>\n",
              "      <td>1649</td>\n",
              "      <td>1636.0</td>\n",
              "      <td>...</td>\n",
              "      <td>134.0</td>\n",
              "      <td>126.0</td>\n",
              "      <td>106.0</td>\n",
              "      <td>846.0</td>\n",
              "      <td>0.0</td>\n",
              "      <td>0.0</td>\n",
              "      <td>0.0</td>\n",
              "      <td>0.0</td>\n",
              "      <td>0.0</td>\n",
              "      <td>NaN</td>\n",
              "    </tr>\n",
              "    <tr>\n",
              "      <th>3</th>\n",
              "      <td>2425</td>\n",
              "      <td>1546</td>\n",
              "      <td>1552.0</td>\n",
              "      <td>6.0</td>\n",
              "      <td>19.0</td>\n",
              "      <td>1611.0</td>\n",
              "      <td>1748.0</td>\n",
              "      <td>6.0</td>\n",
              "      <td>1756</td>\n",
              "      <td>1754.0</td>\n",
              "      <td>...</td>\n",
              "      <td>190.0</td>\n",
              "      <td>182.0</td>\n",
              "      <td>157.0</td>\n",
              "      <td>1120.0</td>\n",
              "      <td>0.0</td>\n",
              "      <td>0.0</td>\n",
              "      <td>0.0</td>\n",
              "      <td>0.0</td>\n",
              "      <td>0.0</td>\n",
              "      <td>NaN</td>\n",
              "    </tr>\n",
              "    <tr>\n",
              "      <th>4</th>\n",
              "      <td>2424</td>\n",
              "      <td>630</td>\n",
              "      <td>650.0</td>\n",
              "      <td>20.0</td>\n",
              "      <td>13.0</td>\n",
              "      <td>703.0</td>\n",
              "      <td>926.0</td>\n",
              "      <td>10.0</td>\n",
              "      <td>922</td>\n",
              "      <td>936.0</td>\n",
              "      <td>...</td>\n",
              "      <td>112.0</td>\n",
              "      <td>106.0</td>\n",
              "      <td>83.0</td>\n",
              "      <td>723.0</td>\n",
              "      <td>0.0</td>\n",
              "      <td>0.0</td>\n",
              "      <td>0.0</td>\n",
              "      <td>0.0</td>\n",
              "      <td>0.0</td>\n",
              "      <td>NaN</td>\n",
              "    </tr>\n",
              "    <tr>\n",
              "      <th>...</th>\n",
              "      <td>...</td>\n",
              "      <td>...</td>\n",
              "      <td>...</td>\n",
              "      <td>...</td>\n",
              "      <td>...</td>\n",
              "      <td>...</td>\n",
              "      <td>...</td>\n",
              "      <td>...</td>\n",
              "      <td>...</td>\n",
              "      <td>...</td>\n",
              "      <td>...</td>\n",
              "      <td>...</td>\n",
              "      <td>...</td>\n",
              "      <td>...</td>\n",
              "      <td>...</td>\n",
              "      <td>...</td>\n",
              "      <td>...</td>\n",
              "      <td>...</td>\n",
              "      <td>...</td>\n",
              "      <td>...</td>\n",
              "      <td>...</td>\n",
              "    </tr>\n",
              "    <tr>\n",
              "      <th>2831</th>\n",
              "      <td>657</td>\n",
              "      <td>713</td>\n",
              "      <td>743.0</td>\n",
              "      <td>30.0</td>\n",
              "      <td>25.0</td>\n",
              "      <td>808.0</td>\n",
              "      <td>1047.0</td>\n",
              "      <td>6.0</td>\n",
              "      <td>1009</td>\n",
              "      <td>1053.0</td>\n",
              "      <td>...</td>\n",
              "      <td>176.0</td>\n",
              "      <td>190.0</td>\n",
              "      <td>159.0</td>\n",
              "      <td>1062.0</td>\n",
              "      <td>0.0</td>\n",
              "      <td>30.0</td>\n",
              "      <td>14.0</td>\n",
              "      <td>0.0</td>\n",
              "      <td>0.0</td>\n",
              "      <td>NaN</td>\n",
              "    </tr>\n",
              "    <tr>\n",
              "      <th>2832</th>\n",
              "      <td>658</td>\n",
              "      <td>2016</td>\n",
              "      <td>2017.0</td>\n",
              "      <td>1.0</td>\n",
              "      <td>20.0</td>\n",
              "      <td>2037.0</td>\n",
              "      <td>2259.0</td>\n",
              "      <td>8.0</td>\n",
              "      <td>2314</td>\n",
              "      <td>2307.0</td>\n",
              "      <td>...</td>\n",
              "      <td>178.0</td>\n",
              "      <td>170.0</td>\n",
              "      <td>142.0</td>\n",
              "      <td>1062.0</td>\n",
              "      <td>0.0</td>\n",
              "      <td>0.0</td>\n",
              "      <td>0.0</td>\n",
              "      <td>0.0</td>\n",
              "      <td>0.0</td>\n",
              "      <td>NaN</td>\n",
              "    </tr>\n",
              "    <tr>\n",
              "      <th>2833</th>\n",
              "      <td>660</td>\n",
              "      <td>1630</td>\n",
              "      <td>1621.0</td>\n",
              "      <td>-9.0</td>\n",
              "      <td>18.0</td>\n",
              "      <td>1639.0</td>\n",
              "      <td>1730.0</td>\n",
              "      <td>10.0</td>\n",
              "      <td>1749</td>\n",
              "      <td>1740.0</td>\n",
              "      <td>...</td>\n",
              "      <td>79.0</td>\n",
              "      <td>79.0</td>\n",
              "      <td>51.0</td>\n",
              "      <td>280.0</td>\n",
              "      <td>0.0</td>\n",
              "      <td>0.0</td>\n",
              "      <td>0.0</td>\n",
              "      <td>0.0</td>\n",
              "      <td>0.0</td>\n",
              "      <td>NaN</td>\n",
              "    </tr>\n",
              "    <tr>\n",
              "      <th>2834</th>\n",
              "      <td>665</td>\n",
              "      <td>750</td>\n",
              "      <td>756.0</td>\n",
              "      <td>6.0</td>\n",
              "      <td>16.0</td>\n",
              "      <td>812.0</td>\n",
              "      <td>1126.0</td>\n",
              "      <td>4.0</td>\n",
              "      <td>1136</td>\n",
              "      <td>1130.0</td>\n",
              "      <td>...</td>\n",
              "      <td>226.0</td>\n",
              "      <td>214.0</td>\n",
              "      <td>194.0</td>\n",
              "      <td>1249.0</td>\n",
              "      <td>0.0</td>\n",
              "      <td>0.0</td>\n",
              "      <td>0.0</td>\n",
              "      <td>0.0</td>\n",
              "      <td>0.0</td>\n",
              "      <td>NaN</td>\n",
              "    </tr>\n",
              "    <tr>\n",
              "      <th>2835</th>\n",
              "      <td>667</td>\n",
              "      <td>2205</td>\n",
              "      <td>2306.0</td>\n",
              "      <td>61.0</td>\n",
              "      <td>15.0</td>\n",
              "      <td>2321.0</td>\n",
              "      <td>243.0</td>\n",
              "      <td>5.0</td>\n",
              "      <td>158</td>\n",
              "      <td>248.0</td>\n",
              "      <td>...</td>\n",
              "      <td>173.0</td>\n",
              "      <td>162.0</td>\n",
              "      <td>142.0</td>\n",
              "      <td>1179.0</td>\n",
              "      <td>33.0</td>\n",
              "      <td>0.0</td>\n",
              "      <td>0.0</td>\n",
              "      <td>0.0</td>\n",
              "      <td>17.0</td>\n",
              "      <td>NaN</td>\n",
              "    </tr>\n",
              "  </tbody>\n",
              "</table>\n",
              "<p>2836 rows × 22 columns</p>\n",
              "</div>\n",
              "    <div class=\"colab-df-buttons\">\n",
              "\n",
              "  <div class=\"colab-df-container\">\n",
              "    <button class=\"colab-df-convert\" onclick=\"convertToInteractive('df-f408fb88-32bd-4cdf-87ad-f32b24ef3c65')\"\n",
              "            title=\"Convert this dataframe to an interactive table.\"\n",
              "            style=\"display:none;\">\n",
              "\n",
              "  <svg xmlns=\"http://www.w3.org/2000/svg\" height=\"24px\" viewBox=\"0 -960 960 960\">\n",
              "    <path d=\"M120-120v-720h720v720H120Zm60-500h600v-160H180v160Zm220 220h160v-160H400v160Zm0 220h160v-160H400v160ZM180-400h160v-160H180v160Zm440 0h160v-160H620v160ZM180-180h160v-160H180v160Zm440 0h160v-160H620v160Z\"/>\n",
              "  </svg>\n",
              "    </button>\n",
              "\n",
              "  <style>\n",
              "    .colab-df-container {\n",
              "      display:flex;\n",
              "      gap: 12px;\n",
              "    }\n",
              "\n",
              "    .colab-df-convert {\n",
              "      background-color: #E8F0FE;\n",
              "      border: none;\n",
              "      border-radius: 50%;\n",
              "      cursor: pointer;\n",
              "      display: none;\n",
              "      fill: #1967D2;\n",
              "      height: 32px;\n",
              "      padding: 0 0 0 0;\n",
              "      width: 32px;\n",
              "    }\n",
              "\n",
              "    .colab-df-convert:hover {\n",
              "      background-color: #E2EBFA;\n",
              "      box-shadow: 0px 1px 2px rgba(60, 64, 67, 0.3), 0px 1px 3px 1px rgba(60, 64, 67, 0.15);\n",
              "      fill: #174EA6;\n",
              "    }\n",
              "\n",
              "    .colab-df-buttons div {\n",
              "      margin-bottom: 4px;\n",
              "    }\n",
              "\n",
              "    [theme=dark] .colab-df-convert {\n",
              "      background-color: #3B4455;\n",
              "      fill: #D2E3FC;\n",
              "    }\n",
              "\n",
              "    [theme=dark] .colab-df-convert:hover {\n",
              "      background-color: #434B5C;\n",
              "      box-shadow: 0px 1px 3px 1px rgba(0, 0, 0, 0.15);\n",
              "      filter: drop-shadow(0px 1px 2px rgba(0, 0, 0, 0.3));\n",
              "      fill: #FFFFFF;\n",
              "    }\n",
              "  </style>\n",
              "\n",
              "    <script>\n",
              "      const buttonEl =\n",
              "        document.querySelector('#df-f408fb88-32bd-4cdf-87ad-f32b24ef3c65 button.colab-df-convert');\n",
              "      buttonEl.style.display =\n",
              "        google.colab.kernel.accessAllowed ? 'block' : 'none';\n",
              "\n",
              "      async function convertToInteractive(key) {\n",
              "        const element = document.querySelector('#df-f408fb88-32bd-4cdf-87ad-f32b24ef3c65');\n",
              "        const dataTable =\n",
              "          await google.colab.kernel.invokeFunction('convertToInteractive',\n",
              "                                                    [key], {});\n",
              "        if (!dataTable) return;\n",
              "\n",
              "        const docLinkHtml = 'Like what you see? Visit the ' +\n",
              "          '<a target=\"_blank\" href=https://colab.research.google.com/notebooks/data_table.ipynb>data table notebook</a>'\n",
              "          + ' to learn more about interactive tables.';\n",
              "        element.innerHTML = '';\n",
              "        dataTable['output_type'] = 'display_data';\n",
              "        await google.colab.output.renderOutput(dataTable, element);\n",
              "        const docLink = document.createElement('div');\n",
              "        docLink.innerHTML = docLinkHtml;\n",
              "        element.appendChild(docLink);\n",
              "      }\n",
              "    </script>\n",
              "  </div>\n",
              "\n",
              "\n",
              "<div id=\"df-42bed859-29c5-4c4d-bcc4-e94646e67c9c\">\n",
              "  <button class=\"colab-df-quickchart\" onclick=\"quickchart('df-42bed859-29c5-4c4d-bcc4-e94646e67c9c')\"\n",
              "            title=\"Suggest charts\"\n",
              "            style=\"display:none;\">\n",
              "\n",
              "<svg xmlns=\"http://www.w3.org/2000/svg\" height=\"24px\"viewBox=\"0 0 24 24\"\n",
              "     width=\"24px\">\n",
              "    <g>\n",
              "        <path d=\"M19 3H5c-1.1 0-2 .9-2 2v14c0 1.1.9 2 2 2h14c1.1 0 2-.9 2-2V5c0-1.1-.9-2-2-2zM9 17H7v-7h2v7zm4 0h-2V7h2v10zm4 0h-2v-4h2v4z\"/>\n",
              "    </g>\n",
              "</svg>\n",
              "  </button>\n",
              "\n",
              "<style>\n",
              "  .colab-df-quickchart {\n",
              "      --bg-color: #E8F0FE;\n",
              "      --fill-color: #1967D2;\n",
              "      --hover-bg-color: #E2EBFA;\n",
              "      --hover-fill-color: #174EA6;\n",
              "      --disabled-fill-color: #AAA;\n",
              "      --disabled-bg-color: #DDD;\n",
              "  }\n",
              "\n",
              "  [theme=dark] .colab-df-quickchart {\n",
              "      --bg-color: #3B4455;\n",
              "      --fill-color: #D2E3FC;\n",
              "      --hover-bg-color: #434B5C;\n",
              "      --hover-fill-color: #FFFFFF;\n",
              "      --disabled-bg-color: #3B4455;\n",
              "      --disabled-fill-color: #666;\n",
              "  }\n",
              "\n",
              "  .colab-df-quickchart {\n",
              "    background-color: var(--bg-color);\n",
              "    border: none;\n",
              "    border-radius: 50%;\n",
              "    cursor: pointer;\n",
              "    display: none;\n",
              "    fill: var(--fill-color);\n",
              "    height: 32px;\n",
              "    padding: 0;\n",
              "    width: 32px;\n",
              "  }\n",
              "\n",
              "  .colab-df-quickchart:hover {\n",
              "    background-color: var(--hover-bg-color);\n",
              "    box-shadow: 0 1px 2px rgba(60, 64, 67, 0.3), 0 1px 3px 1px rgba(60, 64, 67, 0.15);\n",
              "    fill: var(--button-hover-fill-color);\n",
              "  }\n",
              "\n",
              "  .colab-df-quickchart-complete:disabled,\n",
              "  .colab-df-quickchart-complete:disabled:hover {\n",
              "    background-color: var(--disabled-bg-color);\n",
              "    fill: var(--disabled-fill-color);\n",
              "    box-shadow: none;\n",
              "  }\n",
              "\n",
              "  .colab-df-spinner {\n",
              "    border: 2px solid var(--fill-color);\n",
              "    border-color: transparent;\n",
              "    border-bottom-color: var(--fill-color);\n",
              "    animation:\n",
              "      spin 1s steps(1) infinite;\n",
              "  }\n",
              "\n",
              "  @keyframes spin {\n",
              "    0% {\n",
              "      border-color: transparent;\n",
              "      border-bottom-color: var(--fill-color);\n",
              "      border-left-color: var(--fill-color);\n",
              "    }\n",
              "    20% {\n",
              "      border-color: transparent;\n",
              "      border-left-color: var(--fill-color);\n",
              "      border-top-color: var(--fill-color);\n",
              "    }\n",
              "    30% {\n",
              "      border-color: transparent;\n",
              "      border-left-color: var(--fill-color);\n",
              "      border-top-color: var(--fill-color);\n",
              "      border-right-color: var(--fill-color);\n",
              "    }\n",
              "    40% {\n",
              "      border-color: transparent;\n",
              "      border-right-color: var(--fill-color);\n",
              "      border-top-color: var(--fill-color);\n",
              "    }\n",
              "    60% {\n",
              "      border-color: transparent;\n",
              "      border-right-color: var(--fill-color);\n",
              "    }\n",
              "    80% {\n",
              "      border-color: transparent;\n",
              "      border-right-color: var(--fill-color);\n",
              "      border-bottom-color: var(--fill-color);\n",
              "    }\n",
              "    90% {\n",
              "      border-color: transparent;\n",
              "      border-bottom-color: var(--fill-color);\n",
              "    }\n",
              "  }\n",
              "</style>\n",
              "\n",
              "  <script>\n",
              "    async function quickchart(key) {\n",
              "      const quickchartButtonEl =\n",
              "        document.querySelector('#' + key + ' button');\n",
              "      quickchartButtonEl.disabled = true;  // To prevent multiple clicks.\n",
              "      quickchartButtonEl.classList.add('colab-df-spinner');\n",
              "      try {\n",
              "        const charts = await google.colab.kernel.invokeFunction(\n",
              "            'suggestCharts', [key], {});\n",
              "      } catch (error) {\n",
              "        console.error('Error during call to suggestCharts:', error);\n",
              "      }\n",
              "      quickchartButtonEl.classList.remove('colab-df-spinner');\n",
              "      quickchartButtonEl.classList.add('colab-df-quickchart-complete');\n",
              "    }\n",
              "    (() => {\n",
              "      let quickchartButtonEl =\n",
              "        document.querySelector('#df-42bed859-29c5-4c4d-bcc4-e94646e67c9c button');\n",
              "      quickchartButtonEl.style.display =\n",
              "        google.colab.kernel.accessAllowed ? 'block' : 'none';\n",
              "    })();\n",
              "  </script>\n",
              "</div>\n",
              "    </div>\n",
              "  </div>\n"
            ]
          },
          "metadata": {},
          "execution_count": 8
        }
      ]
    },
    {
      "cell_type": "code",
      "source": [
        "y = y.apply(lambda x: 0 if x <= 15 else 1)"
      ],
      "metadata": {
        "id": "uNTRwoH8dWJx"
      },
      "execution_count": null,
      "outputs": []
    },
    {
      "cell_type": "code",
      "source": [
        "y"
      ],
      "metadata": {
        "colab": {
          "base_uri": "https://localhost:8080/"
        },
        "id": "9Yqi2Jupd8e5",
        "outputId": "3590d2f7-da80-487e-b2bc-114bec991ccf"
      },
      "execution_count": null,
      "outputs": [
        {
          "output_type": "execute_result",
          "data": {
            "text/plain": [
              "0       0\n",
              "1       0\n",
              "2       0\n",
              "3       0\n",
              "4       0\n",
              "       ..\n",
              "2831    1\n",
              "2832    0\n",
              "2833    0\n",
              "2834    0\n",
              "2835    1\n",
              "Name: ARR_DELAY, Length: 2836, dtype: int64"
            ]
          },
          "metadata": {},
          "execution_count": 10
        }
      ]
    },
    {
      "cell_type": "markdown",
      "source": [
        "Correlation between features and the target ARR_DELAY"
      ],
      "metadata": {
        "id": "8kQVfXPEu462"
      }
    },
    {
      "cell_type": "code",
      "source": [
        "corr = x.corr()"
      ],
      "metadata": {
        "id": "6mhpIT4Ib6EH"
      },
      "execution_count": null,
      "outputs": []
    },
    {
      "cell_type": "code",
      "source": [
        "x=flight_delays.drop(object_columns,axis=1).copy()\n"
      ],
      "metadata": {
        "id": "I2QfbQfQjD-w"
      },
      "execution_count": null,
      "outputs": []
    },
    {
      "cell_type": "code",
      "source": [
        "x['ARR_DELAY'] = x['ARR_DELAY'].apply(lambda x: 0 if x <= 15 else 1)"
      ],
      "metadata": {
        "id": "5T02FIgMopSd"
      },
      "execution_count": null,
      "outputs": []
    },
    {
      "cell_type": "code",
      "source": [
        "corr = x.corr()"
      ],
      "metadata": {
        "id": "W1AUbaLUpDwr"
      },
      "execution_count": null,
      "outputs": []
    },
    {
      "cell_type": "code",
      "source": [
        "print(abs(corr['ARR_DELAY'].sort_values(ascending=False)))"
      ],
      "metadata": {
        "colab": {
          "base_uri": "https://localhost:8080/"
        },
        "id": "0rk7-54spHb8",
        "outputId": "d906fe72-d1d6-44a9-b005-875111bfe2f9"
      },
      "execution_count": null,
      "outputs": [
        {
          "output_type": "stream",
          "name": "stdout",
          "text": [
            "ARR_DELAY              1.000000\n",
            "DEP_DELAY              0.660947\n",
            "LATE_AIRCRAFT_DELAY    0.471861\n",
            "CARRIER_DELAY          0.431354\n",
            "NAS_DELAY              0.380455\n",
            "TAXI_OUT               0.251755\n",
            "WEATHER_DELAY          0.189152\n",
            "TAXI_IN                0.124396\n",
            "WHEELS_OFF             0.104222\n",
            "DEP_TIME               0.089070\n",
            "CRS_ARR_TIME           0.037413\n",
            "SECURITY_DELAY         0.036762\n",
            "CRS_DEP_TIME           0.021335\n",
            "WHEELS_ON              0.011970\n",
            "ARR_TIME               0.005933\n",
            "ACTUAL_ELAPSED_TIME    0.001389\n",
            "OP_CARRIER_FL_NUM      0.005944\n",
            "DIVERTED               0.027173\n",
            "CANCELLED              0.030391\n",
            "AIR_TIME               0.037697\n",
            "CRS_ELAPSED_TIME       0.048538\n",
            "DISTANCE               0.055354\n",
            "Unnamed: 27                 NaN\n",
            "Name: ARR_DELAY, dtype: float64\n"
          ]
        }
      ]
    },
    {
      "cell_type": "code",
      "source": [
        "from scipy import stats"
      ],
      "metadata": {
        "id": "YAZWzrHJpgnb"
      },
      "execution_count": null,
      "outputs": []
    },
    {
      "cell_type": "code",
      "source": [
        "flight_delays['ARR_DELAY'],"
      ],
      "metadata": {
        "colab": {
          "base_uri": "https://localhost:8080/"
        },
        "id": "mEUybh9Qsix5",
        "outputId": "e37e4de0-171c-461c-fc05-ca595b41a592"
      },
      "execution_count": null,
      "outputs": [
        {
          "output_type": "execute_result",
          "data": {
            "text/plain": [
              "(0      -23.0\n",
              " 1      -24.0\n",
              " 2      -13.0\n",
              " 3       -2.0\n",
              " 4       14.0\n",
              "         ... \n",
              " 2831    44.0\n",
              " 2832    -7.0\n",
              " 2833    -9.0\n",
              " 2834    -6.0\n",
              " 2835    50.0\n",
              " Name: ARR_DELAY, Length: 2836, dtype: float64,)"
            ]
          },
          "metadata": {},
          "execution_count": 17
        }
      ]
    },
    {
      "cell_type": "markdown",
      "source": [
        "Normal Distribution of the feature ARR_DELAY"
      ],
      "metadata": {
        "id": "-NSAXgKtvMVX"
      }
    },
    {
      "cell_type": "code",
      "source": [
        "#X=x.drop(['ARR_DELAY'],axis=1).copy()\n",
        "NormResult = stats.kstest(flight_delays['ARR_DELAY'],stats.norm.cdf)"
      ],
      "metadata": {
        "id": "MblbgwurqjgT"
      },
      "execution_count": null,
      "outputs": []
    },
    {
      "cell_type": "code",
      "source": [
        "NormResult"
      ],
      "metadata": {
        "colab": {
          "base_uri": "https://localhost:8080/"
        },
        "id": "yNHCWJHk6rFi",
        "outputId": "e0810613-a501-41c3-c198-d3836388ae35"
      },
      "execution_count": null,
      "outputs": [
        {
          "output_type": "execute_result",
          "data": {
            "text/plain": [
              "KstestResult(statistic=0.5910337408964376, pvalue=0.0, statistic_location=-3.0, statistic_sign=1)"
            ]
          },
          "metadata": {},
          "execution_count": 19
        }
      ]
    },
    {
      "cell_type": "code",
      "source": [
        "import matplotlib.pyplot as plt\n",
        "plt.hist(NormResult)"
      ],
      "metadata": {
        "colab": {
          "base_uri": "https://localhost:8080/",
          "height": 517
        },
        "id": "0yXaBEft6u9K",
        "outputId": "6432c699-276c-44ec-be9b-f1e4afb86a17"
      },
      "execution_count": null,
      "outputs": [
        {
          "output_type": "execute_result",
          "data": {
            "text/plain": [
              "(array([1., 0., 0., 0., 0., 0., 0., 0., 0., 1.]),\n",
              " array([0.        , 0.05910337, 0.11820675, 0.17731012, 0.2364135 ,\n",
              "        0.29551687, 0.35462024, 0.41372362, 0.47282699, 0.53193037,\n",
              "        0.59103374]),\n",
              " <BarContainer object of 10 artists>)"
            ]
          },
          "metadata": {},
          "execution_count": 20
        },
        {
          "output_type": "display_data",
          "data": {
            "text/plain": [
              "<Figure size 640x480 with 1 Axes>"
            ],
            "image/png": "[encoded data removed]"
          },
          "metadata": {}
        }
      ]
    },
    {
      "cell_type": "markdown",
      "source": [
        "Nonlinear transformation"
      ],
      "metadata": {
        "id": "71n0cfUqvc10"
      }
    },
    {
      "cell_type": "code",
      "source": [
        "import numpy as np\n",
        "y = np.log(y)"
      ],
      "metadata": {
        "colab": {
          "base_uri": "https://localhost:8080/"
        },
        "id": "2beOnro38uVo",
        "outputId": "dc151333-1695-4c94-b4f7-1cfedd94c64d"
      },
      "execution_count": null,
      "outputs": [
        {
          "output_type": "stream",
          "name": "stderr",
          "text": [
            "/usr/local/lib/python3.10/dist-packages/pandas/core/arraylike.py:402: RuntimeWarning: divide by zero encountered in log\n",
            "  result = getattr(ufunc, method)(*inputs, **kwargs)\n"
          ]
        }
      ]
    },
    {
      "cell_type": "code",
      "source": [
        "NormResult2 = stats.kstest(y,stats.norm.cdf)\n",
        "plt.hist(NormResult2)"
      ],
      "metadata": {
        "colab": {
          "base_uri": "https://localhost:8080/",
          "height": 517
        },
        "id": "m2nJ5Yv8jAsr",
        "outputId": "920622d7-d936-456c-9a62-903bf44b43d5"
      },
      "execution_count": null,
      "outputs": [
        {
          "output_type": "execute_result",
          "data": {
            "text/plain": [
              "(array([1., 0., 0., 0., 0., 0., 0., 0., 0., 1.]),\n",
              " array([0.        , 0.07930183, 0.15860367, 0.2379055 , 0.31720733,\n",
              "        0.39650917, 0.475811  , 0.55511283, 0.63441467, 0.7137165 ,\n",
              "        0.79301834]),\n",
              " <BarContainer object of 10 artists>)"
            ]
          },
          "metadata": {},
          "execution_count": 22
        },
        {
          "output_type": "display_data",
          "data": {
            "text/plain": [
              "<Figure size 640x480 with 1 Axes>"
            ],
            "image/png": "[encoded data removed]"
          },
          "metadata": {}
        }
      ]
    },
    {
      "cell_type": "code",
      "source": [
        "x=x.drop('ARR_DELAY',axis=1).copy()"
      ],
      "metadata": {
        "id": "t2rH-rsQnuYz"
      },
      "execution_count": null,
      "outputs": []
    },
    {
      "cell_type": "code",
      "source": [
        "x.info()"
      ],
      "metadata": {
        "colab": {
          "base_uri": "https://localhost:8080/"
        },
        "id": "4XuBLsgVoI_z",
        "outputId": "16e08799-dc1c-4c60-b9d5-f831e72a78a2"
      },
      "execution_count": null,
      "outputs": [
        {
          "output_type": "stream",
          "name": "stdout",
          "text": [
            "<class 'pandas.core.frame.DataFrame'>\n",
            "RangeIndex: 2836 entries, 0 to 2835\n",
            "Data columns (total 22 columns):\n",
            " #   Column               Non-Null Count  Dtype  \n",
            "---  ------               --------------  -----  \n",
            " 0   OP_CARRIER_FL_NUM    2836 non-null   int64  \n",
            " 1   CRS_DEP_TIME         2836 non-null   int64  \n",
            " 2   DEP_TIME             2836 non-null   float64\n",
            " 3   DEP_DELAY            2836 non-null   float64\n",
            " 4   TAXI_OUT             2836 non-null   float64\n",
            " 5   WHEELS_OFF           2836 non-null   float64\n",
            " 6   WHEELS_ON            2836 non-null   float64\n",
            " 7   TAXI_IN              2836 non-null   float64\n",
            " 8   CRS_ARR_TIME         2836 non-null   int64  \n",
            " 9   ARR_TIME             2836 non-null   float64\n",
            " 10  CANCELLED            2836 non-null   float64\n",
            " 11  DIVERTED             2836 non-null   float64\n",
            " 12  CRS_ELAPSED_TIME     2836 non-null   float64\n",
            " 13  ACTUAL_ELAPSED_TIME  2836 non-null   float64\n",
            " 14  AIR_TIME             2836 non-null   float64\n",
            " 15  DISTANCE             2836 non-null   float64\n",
            " 16  CARRIER_DELAY        2836 non-null   float64\n",
            " 17  WEATHER_DELAY        2836 non-null   float64\n",
            " 18  NAS_DELAY            2836 non-null   float64\n",
            " 19  SECURITY_DELAY       2836 non-null   float64\n",
            " 20  LATE_AIRCRAFT_DELAY  2836 non-null   float64\n",
            " 21  Unnamed: 27          0 non-null      float64\n",
            "dtypes: float64(19), int64(3)\n",
            "memory usage: 487.6 KB\n"
          ]
        }
      ]
    },
    {
      "cell_type": "code",
      "source": [
        "y=flight_delays['ARR_DELAY'].apply(lambda x: 0 if x <= 15 else 1)"
      ],
      "metadata": {
        "id": "l9tcagcBoLsK"
      },
      "execution_count": null,
      "outputs": []
    },
    {
      "cell_type": "code",
      "source": [
        "y"
      ],
      "metadata": {
        "colab": {
          "base_uri": "https://localhost:8080/"
        },
        "id": "j3QMUM9KowT5",
        "outputId": "6971f597-3dff-4d6e-ab9f-1fa75fafbff7"
      },
      "execution_count": null,
      "outputs": [
        {
          "output_type": "execute_result",
          "data": {
            "text/plain": [
              "0       0\n",
              "1       0\n",
              "2       0\n",
              "3       0\n",
              "4       0\n",
              "       ..\n",
              "2831    1\n",
              "2832    0\n",
              "2833    0\n",
              "2834    0\n",
              "2835    1\n",
              "Name: ARR_DELAY, Length: 2836, dtype: int64"
            ]
          },
          "metadata": {},
          "execution_count": 26
        }
      ]
    },
    {
      "cell_type": "code",
      "source": [
        "x=x.drop('Unnamed: 27',axis=1).copy()"
      ],
      "metadata": {
        "id": "oDkam0AupNDn"
      },
      "execution_count": null,
      "outputs": []
    },
    {
      "cell_type": "code",
      "source": [
        "x.info()"
      ],
      "metadata": {
        "colab": {
          "base_uri": "https://localhost:8080/"
        },
        "id": "2hxc3JDqphqn",
        "outputId": "a69c91da-73a4-4e38-8db7-5ef504a91e4a"
      },
      "execution_count": null,
      "outputs": [
        {
          "output_type": "stream",
          "name": "stdout",
          "text": [
            "<class 'pandas.core.frame.DataFrame'>\n",
            "RangeIndex: 2836 entries, 0 to 2835\n",
            "Data columns (total 21 columns):\n",
            " #   Column               Non-Null Count  Dtype  \n",
            "---  ------               --------------  -----  \n",
            " 0   OP_CARRIER_FL_NUM    2836 non-null   int64  \n",
            " 1   CRS_DEP_TIME         2836 non-null   int64  \n",
            " 2   DEP_TIME             2836 non-null   float64\n",
            " 3   DEP_DELAY            2836 non-null   float64\n",
            " 4   TAXI_OUT             2836 non-null   float64\n",
            " 5   WHEELS_OFF           2836 non-null   float64\n",
            " 6   WHEELS_ON            2836 non-null   float64\n",
            " 7   TAXI_IN              2836 non-null   float64\n",
            " 8   CRS_ARR_TIME         2836 non-null   int64  \n",
            " 9   ARR_TIME             2836 non-null   float64\n",
            " 10  CANCELLED            2836 non-null   float64\n",
            " 11  DIVERTED             2836 non-null   float64\n",
            " 12  CRS_ELAPSED_TIME     2836 non-null   float64\n",
            " 13  ACTUAL_ELAPSED_TIME  2836 non-null   float64\n",
            " 14  AIR_TIME             2836 non-null   float64\n",
            " 15  DISTANCE             2836 non-null   float64\n",
            " 16  CARRIER_DELAY        2836 non-null   float64\n",
            " 17  WEATHER_DELAY        2836 non-null   float64\n",
            " 18  NAS_DELAY            2836 non-null   float64\n",
            " 19  SECURITY_DELAY       2836 non-null   float64\n",
            " 20  LATE_AIRCRAFT_DELAY  2836 non-null   float64\n",
            "dtypes: float64(18), int64(3)\n",
            "memory usage: 465.4 KB\n"
          ]
        }
      ]
    },
    {
      "cell_type": "code",
      "source": [
        "y.info()"
      ],
      "metadata": {
        "colab": {
          "base_uri": "https://localhost:8080/"
        },
        "id": "7soXqga0qDki",
        "outputId": "ff2154fe-d63e-40da-ef27-a46b63c8c200"
      },
      "execution_count": null,
      "outputs": [
        {
          "output_type": "stream",
          "name": "stdout",
          "text": [
            "<class 'pandas.core.series.Series'>\n",
            "RangeIndex: 2836 entries, 0 to 2835\n",
            "Series name: ARR_DELAY\n",
            "Non-Null Count  Dtype\n",
            "--------------  -----\n",
            "2836 non-null   int64\n",
            "dtypes: int64(1)\n",
            "memory usage: 22.3 KB\n"
          ]
        }
      ]
    },
    {
      "cell_type": "markdown",
      "source": [
        " Decision tree"
      ],
      "metadata": {
        "id": "YIx8J8yqwfqh"
      }
    },
    {
      "cell_type": "code",
      "source": [
        "from sklearn.tree import DecisionTreeRegressor\n",
        "from sklearn.tree import DecisionTreeClassifier\n",
        "\n",
        "from sklearn.model_selection import train_test_split\n",
        "from sklearn.metrics import mean_squared_error as MSE\n",
        "from sklearn.metrics import mean_absolute_error as MAE\n",
        "from sklearn.metrics import r2_score\n",
        "\n",
        "X_train, X_test, y_train, y_test = train_test_split(x, y, random_state=0)\n",
        "reg = DecisionTreeRegressor(min_samples_split=3).fit(X_train, y_train)\n",
        "y_train_predict = reg.predict(X_train)\n",
        "y_test_predict = reg.predict(X_test)\n",
        "\n",
        "print(\"r-squared DecisionTreeRegressor error on training set {:.2f}\".format(r2_score(y_train,y_train_predict)))\n",
        "print(\"r-squared DecisionTreeRegressor error on testing set {:.2f}\".format(r2_score(y_test,y_test_predict)))\n",
        "print(\"mean squared DecisionTreeRegressor error on training set {:.2f}\".format(MSE(y_train,y_train_predict)))\n",
        "print(\"mean squared DecisionTreeRegressor error on testing set {:.2f}\".format(MSE(y_test,y_test_predict)))\n"
      ],
      "metadata": {
        "colab": {
          "base_uri": "https://localhost:8080/"
        },
        "id": "pe_Lyt6vjOUn",
        "outputId": "cfcbbbfb-1ac9-4d10-e2d9-d9737b1c50ed"
      },
      "execution_count": null,
      "outputs": [
        {
          "output_type": "stream",
          "name": "stdout",
          "text": [
            "r-squared DecisionTreeRegressor error on training set 1.00\n",
            "r-squared DecisionTreeRegressor error on testing set 0.85\n",
            "mean squared DecisionTreeRegressor error on training set 0.00\n",
            "mean squared DecisionTreeRegressor error on testing set 0.03\n"
          ]
        }
      ]
    },
    {
      "cell_type": "markdown",
      "source": [
        "Mean squared error and R2"
      ],
      "metadata": {
        "id": "wvPz8nQYwu9C"
      }
    },
    {
      "cell_type": "code",
      "source": [
        "from sklearn.metrics import mean_absolute_error as MAE\n",
        "\n",
        "def evaluate_model(model ,X_train ,X_test ,y_train ,y_test):\n",
        "    train_y_pred = model.predict(X_train)\n",
        "    test_y_pred = model.predict(X_test)\n",
        "    train_mae = MAE(y_train, train_y_pred)\n",
        "    train_mse = MSE(y_train, train_y_pred)\n",
        "    train_rmse= np.sqrt(train_mse)\n",
        "    train_r2 = r2_score(y_train,train_y_pred)\n",
        "    test_mae = MAE(y_test, test_y_pred)\n",
        "    test_mse = MSE(y_test, test_y_pred)\n",
        "    test_rmse= np.sqrt(test_mse)\n",
        "    test_r2 = r2_score(y_test,test_y_pred)\n",
        "\n",
        "    report = f'----------\\nTrain MAE : {train_mae} ,Train MSE : {train_mse} ,Train RMSE : {train_rmse},Train R2 : {train_r2}\\nTest MAE : {test_mae} ,Test MSE : {test_mse}  ,Test RMSE : {test_rmse},Test R2: {test_r2}\\n----------'\n",
        "    return report ,train_y_pred ,test_y_pred"
      ],
      "metadata": {
        "id": "frpup40WLMZx"
      },
      "execution_count": null,
      "outputs": []
    },
    {
      "cell_type": "markdown",
      "source": [
        "AUC,Recall and F1 score"
      ],
      "metadata": {
        "id": "HiFEFc88w9wV"
      }
    },
    {
      "cell_type": "code",
      "source": [
        "from sklearn import metrics\n",
        "def evaluate_model_class(model ,X_train ,X_test ,y_train ,y_test):\n",
        "    train_y_pred = model.predict(X_train)\n",
        "    test_y_pred = model.predict(X_test)\n",
        "    accuracy_train = metrics.accuracy_score(y_train, train_y_pred)\n",
        "    accuracy_test = metrics.accuracy_score(y_test, test_y_pred)\n",
        "    recall_train = metrics.recall_score(y_train, train_y_pred)\n",
        "    recall_test = metrics.recall_score(y_test, test_y_pred)\n",
        "    f1_train = metrics.f1_score(y_train, train_y_pred)\n",
        "    f1_test = metrics.f1_score(y_test, test_y_pred)\n",
        "    report = f'----------\\nTrain accuracy : {accuracy_train} ,Train recall : {recall_train} ,Train F1 : {f1_train}\\nTest accuracy : {accuracy_test} ,Test recall : {recall_test}  ,Test F1 : {f1_test}\\n----------'\n",
        "    return report ,train_y_pred ,test_y_pred"
      ],
      "metadata": {
        "id": "QhIM2VBySmbr"
      },
      "execution_count": null,
      "outputs": []
    },
    {
      "cell_type": "markdown",
      "source": [
        "Regression models"
      ],
      "metadata": {
        "id": "h4UHigBXxHta"
      }
    },
    {
      "cell_type": "code",
      "source": [
        "from sklearn.linear_model import LinearRegression\n",
        "from sklearn.neural_network import MLPRegressor\n",
        "models = [\n",
        "            [('model',  MLPRegressor())] ,\n",
        "            [('model', LinearRegression())],\n",
        "            [('model', DecisionTreeRegressor(min_samples_split=3))]\n",
        "        ]"
      ],
      "metadata": {
        "id": "XsDO18hTNK_4"
      },
      "execution_count": null,
      "outputs": []
    },
    {
      "cell_type": "code",
      "source": [
        "reg_models = {\n",
        "#Generalized Linear Models (GLMs)\n",
        "'linear':{'model': LinearRegression()},\n",
        "#Trees\n",
        "'decision_tree':{'model': DecisionTreeRegressor(max_depth=7)},\n",
        "#Neural Networks\n",
        "'mlp':{'model':MLPRegressor(hidden_layer_sizes=(21,), max_iter=500,\n",
        "early_stopping=True)}\n",
        "}"
      ],
      "metadata": {
        "id": "62Bifb_upjZV"
      },
      "execution_count": null,
      "outputs": []
    },
    {
      "cell_type": "code",
      "source": [
        "for model_name in reg_models.keys():\n",
        "  fitted_model = reg_models[model_name]['model'].fit(X_train, y_train)\n",
        "  y_train_pred = fitted_model.predict(X_train)\n",
        "  y_test_pred = fitted_model.predict(X_test)\n",
        "  print(evaluate_model(fitted_model ,X_train ,X_test ,y_train ,y_test)[0])"
      ],
      "metadata": {
        "colab": {
          "base_uri": "https://localhost:8080/"
        },
        "id": "3XMVHXKxpCvX",
        "outputId": "24af11b0-c9f9-4057-95e9-8bf7a0b73f4b"
      },
      "execution_count": null,
      "outputs": [
        {
          "output_type": "stream",
          "name": "stdout",
          "text": [
            "----------\n",
            "Train MAE : 0.1783544675930063 ,Train MSE : 0.0735318753583948 ,Train RMSE : 0.2711676148775786,Train R2 : 0.5425185654380267\n",
            "Test MAE : 0.18421343907083454 ,Test MSE : 0.07196062146811982  ,Test RMSE : 0.2682547697024599,Test R2: 0.5863552068585942\n",
            "----------\n",
            "----------\n",
            "Train MAE : 0.0 ,Train MSE : 0.0 ,Train RMSE : 0.0,Train R2 : 1.0\n",
            "Test MAE : 0.023977433004231313 ,Test MSE : 0.023977433004231313  ,Test RMSE : 0.15484648205313323,Test R2: 0.8621726700971984\n",
            "----------\n",
            "----------\n",
            "Train MAE : 1.4535153960531702 ,Train MSE : 7.527864774820574 ,Train RMSE : 2.743695459561898,Train R2 : -45.834904721089686\n",
            "Test MAE : 1.727903732242819 ,Test MSE : 23.63896871601478  ,Test RMSE : 4.861992257913908,Test R2: -134.88176595923414\n",
            "----------\n"
          ]
        },
        {
          "output_type": "stream",
          "name": "stderr",
          "text": [
            "/usr/local/lib/python3.10/dist-packages/sklearn/neural_network/_multilayer_perceptron.py:686: ConvergenceWarning: Stochastic Optimizer: Maximum iterations (500) reached and the optimization hasn't converged yet.\n",
            "  warnings.warn(\n"
          ]
        }
      ]
    },
    {
      "cell_type": "markdown",
      "source": [
        "Classification models"
      ],
      "metadata": {
        "id": "u_28yxL2xWcz"
      }
    },
    {
      "cell_type": "code",
      "source": [
        "from sklearn.linear_model import LogisticRegression\n",
        "from sklearn.ensemble import GradientBoostingClassifier\n",
        "class_models = {\n",
        "#Generalized Linear Models (GLMs)\n",
        "'logistic':{'model': LogisticRegression()},\n",
        "#Tree\n",
        "'decision_tree':{'model': DecisionTreeClassifier(max_depth=7)},\n",
        "#Ensemble Methods\n",
        "'gradient_boosting':{'model':GradientBoostingClassifier(n_estimators=210)}\n",
        "}"
      ],
      "metadata": {
        "id": "EYu1RqxLSneN"
      },
      "execution_count": null,
      "outputs": []
    },
    {
      "cell_type": "code",
      "source": [
        "def print_cm(cm, labels, hide_zeroes=False, hide_diagonal=False, hide_threshold=None):\n",
        "    \"\"\"pretty print for confusion matrixes\"\"\"\n",
        "    columnwidth = max([len(x) for x in labels] + [5])  # 5 is value length\n",
        "    empty_cell = \" \" * columnwidth\n",
        "    # Print header\n",
        "    print(\"    \" + empty_cell, end=\" \")\n",
        "    for label in labels:\n",
        "        print(\"%{0}s\".format(columnwidth) % label, end=\" \")\n",
        "    print()\n",
        "    # Print rows\n",
        "    for i, label1 in enumerate(labels):\n",
        "        print(\"    %{0}s\".format(columnwidth) % label1, end=\" \")\n",
        "        for j in range(len(labels)):\n",
        "            cell = \"%{0}.1f\".format(columnwidth) % cm[i, j]\n",
        "            if hide_zeroes:\n",
        "                cell = cell if float(cm[i, j]) != 0 else empty_cell\n",
        "            if hide_diagonal:\n",
        "                cell = cell if i != j else empty_cell\n",
        "            if hide_threshold:\n",
        "                cell = cell if cm[i, j] > hide_threshold else empty_cell\n",
        "            print(cell, end=\" \")\n",
        "        print()"
      ],
      "metadata": {
        "id": "zA_7lIbomzMM"
      },
      "execution_count": null,
      "outputs": []
    },
    {
      "cell_type": "markdown",
      "source": [
        " Confusion Matrices and ROC"
      ],
      "metadata": {
        "id": "oaUqlVBRxm1a"
      }
    },
    {
      "cell_type": "code",
      "source": [
        "from sklearn.metrics import roc_curve, auc"
      ],
      "metadata": {
        "id": "18OKg0dLm0bc"
      },
      "execution_count": null,
      "outputs": []
    },
    {
      "cell_type": "code",
      "source": [
        "for model_name in class_models.keys():\n",
        "  fitted_model = class_models[model_name]['model'].fit(X_train, y_train)\n",
        "  y_train_pred = fitted_model.predict(X_train)\n",
        "  y_test_pred = fitted_model.predict(X_test)\n",
        "  print(evaluate_model_class(fitted_model ,X_train ,X_test ,y_train ,y_test)[0])\n",
        "  confusion = confusion_matrix(y_test, y_test_pred) # two parameters : one column : y, one column : predicted_y\n",
        "  print('confusion_matrix :',class_models[model_name]['model'])\n",
        "  print_cm(confusion, ['Not one', 'One'])\n",
        "  print('\\n')\n",
        "  fpr_lr, tpr_lr, _ = roc_curve(y_test, class_models[model_name]['model'].predict_proba(X_test)[::,1])\n",
        "  roc_auc_lr = auc(fpr_lr, tpr_lr) # area under curve\n",
        "  plt.figure()\n",
        "  plt.xlim([0.0, 1.00])\n",
        "  plt.ylim([0.0, 1.05])\n",
        "  plt.plot(fpr_lr, tpr_lr, lw=2, label='LogRegr ROC curve (area = {:0.2f})'.format(roc_auc_lr))\n",
        "  plt.xlabel('False Positive Rate', fontsize=16)\n",
        "  plt.ylabel('True Positive Rate', fontsize=16)\n",
        "  plt.title('ROC curve (1-of-10 digits classifier)', fontsize=16)\n",
        "  plt.plot([0, 1], [0, 1], color='navy', lw=2, linestyle='--')\n",
        "  plt.show()\n"
      ],
      "metadata": {
        "colab": {
          "base_uri": "https://localhost:8080/",
          "height": 1000
        },
        "id": "pGngezxETyWv",
        "outputId": "ac6ee16a-964f-4653-9ad4-5e65a4afb9f8"
      },
      "execution_count": null,
      "outputs": [
        {
          "output_type": "stream",
          "name": "stderr",
          "text": [
            "/usr/local/lib/python3.10/dist-packages/sklearn/linear_model/_logistic.py:458: ConvergenceWarning: lbfgs failed to converge (status=1):\n",
            "STOP: TOTAL NO. of ITERATIONS REACHED LIMIT.\n",
            "\n",
            "Increase the number of iterations (max_iter) or scale the data as shown in:\n",
            "    https://scikit-learn.org/stable/modules/preprocessing.html\n",
            "Please also refer to the documentation for alternative solver options:\n",
            "    https://scikit-learn.org/stable/modules/linear_model.html#logistic-regression\n",
            "  n_iter_i = _check_optimize_result(\n"
          ]
        },
        {
          "output_type": "stream",
          "name": "stdout",
          "text": [
            "----------\n",
            "Train accuracy : 0.9901269393511989 ,Train recall : 0.9813084112149533 ,Train F1 : 0.9756097560975611\n",
            "Test accuracy : 0.9915373765867419 ,Test recall : 0.9811320754716981  ,Test F1 : 0.9811320754716981\n",
            "----------\n",
            "confusion_matrix : LogisticRegression()\n",
            "            Not one     One \n",
            "    Not one   547.0     3.0 \n",
            "        One     3.0   156.0 \n",
            "\n",
            "\n"
          ]
        },
        {
          "output_type": "display_data",
          "data": {
            "text/plain": [
              "<Figure size 640x480 with 1 Axes>"
            ],
            "image/png": "[encoded data removed]"
          },
          "metadata": {}
        },
        {
          "output_type": "stream",
          "name": "stdout",
          "text": [
            "----------\n",
            "Train accuracy : 1.0 ,Train recall : 1.0 ,Train F1 : 1.0\n",
            "Test accuracy : 0.9760225669957687 ,Test recall : 0.9371069182389937  ,Test F1 : 0.946031746031746\n",
            "----------\n",
            "confusion_matrix : DecisionTreeClassifier(max_depth=7)\n",
            "            Not one     One \n",
            "    Not one   543.0     7.0 \n",
            "        One    10.0   149.0 \n",
            "\n",
            "\n"
          ]
        },
        {
          "output_type": "display_data",
          "data": {
            "text/plain": [
              "<Figure size 640x480 with 1 Axes>"
            ],
            "image/png": "[encoded data removed]"
          },
          "metadata": {}
        },
        {
          "output_type": "stream",
          "name": "stdout",
          "text": [
            "----------\n",
            "Train accuracy : 1.0 ,Train recall : 1.0 ,Train F1 : 1.0\n",
            "Test accuracy : 0.9929478138222849 ,Test recall : 0.9811320754716981  ,Test F1 : 0.9842271293375394\n",
            "----------\n",
            "confusion_matrix : GradientBoostingClassifier(n_estimators=210)\n",
            "            Not one     One \n",
            "    Not one   548.0     2.0 \n",
            "        One     3.0   156.0 \n",
            "\n",
            "\n"
          ]
        },
        {
          "output_type": "display_data",
          "data": {
            "text/plain": [
              "<Figure size 640x480 with 1 Axes>"
            ],
            "image/png": "[encoded data removed]"
          },
          "metadata": {}
        }
      ]
    },
    {
      "cell_type": "code",
      "source": [],
      "metadata": {
        "id": "5Oj_WLfBpSEY"
      },
      "execution_count": null,
      "outputs": []
    }
  ]
}